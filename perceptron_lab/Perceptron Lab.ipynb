{
 "cells": [
  {
   "cell_type": "markdown",
   "source": [
    "# Perceptron Lab"
   ],
   "metadata": {
    "collapsed": false
   }
  },
  {
   "cell_type": "markdown",
   "metadata": {
    "id": "rBIfzcfn3QPO"
   },
   "source": [
    "This is the scaffold notebook for the perceptron lab and each lab will have a similar scaffold.  Make your own copy of this notebook and then you can fill in the tasks.  **You will fill in code boxes and test boxes with discussion for most tasks** and particularly discussion of results, graphs, etc. Good writing, grammar, punctuation, etc. are important and points will be taken off if these things are lacking. \n",
    "\n",
    "In most cases just reporting results without discussion will not receive full credit. Thus, your discussion should also include sentences like the following: This is because…  Note that the …  I was surprised to observe… I am not sure why …, but my hypothesis is that …\n",
    "\n",
    "Start by looking over the scikit-learn [user guide](https://scikit-learn.org/stable/user_guide.html) and carefully reading over the [perceptron documentation](https://scikit-learn.org/stable/modules/generated/sklearn.linear_model.Perceptron.html)."
   ]
  },
  {
   "cell_type": "code",
   "execution_count": 6,
   "metadata": {
    "id": "6ZbYjZZZ_yLV",
    "ExecuteTime": {
     "end_time": "2024-01-30T17:27:31.815683Z",
     "start_time": "2024-01-30T17:27:31.199193Z"
    }
   },
   "outputs": [],
   "source": [
    "# imports\n",
    "import numpy as np\n",
    "from scipy.io import arff\n",
    "import pandas as pd\n",
    "import matplotlib.pyplot as plt\n",
    "\n",
    "def load_data(filename: str, max_itr: int, plot: bool = False) -> None:\n",
    "    clf = Perceptron(shuffle=False, verbose=1, eta0=.1, max_iter=max_itr)\n",
    "    Data_Set = arff.loadarff(filename)\n",
    "    Data_Set_df = pd.DataFrame(Data_Set[0])\n",
    "    Data_Set_np = Data_Set_df.to_numpy()\n",
    "    Data_Set_np = Data_Set_np.astype(float)\n",
    "    X = Data_Set_np[:, :-1]\n",
    "    y = Data_Set_np[:, -1]\n",
    "    clf.fit(X, y)\n",
    "    # Print weights, intercept, and accuracy\n",
    "    print(\"Weights:\", clf.coef_)\n",
    "    print(\"Intercept:\", clf.intercept_)\n",
    "    print(\"Accuracy:\", clf.score(X, y))\n",
    "\n",
    "    # Plotting if plot is True\n",
    "    if plot:\n",
    "        x1_values = X[:, 0]\n",
    "        x2_values = X[:, 1]\n",
    "\n",
    "        # Create a new figure for each plot\n",
    "        plt.figure()\n",
    "\n",
    "        # Plotting the data points\n",
    "        plt.scatter(x1_values, x2_values, c=y, cmap=plt.cm.Paired, marker='o')\n",
    "\n",
    "        # Plotting the decision boundary line\n",
    "        if len(clf.coef_[0]) == 2:  # Check if there are two features\n",
    "            x_line = np.linspace(np.min(x1_values), np.max(x1_values), 100)\n",
    "            y_line = (-clf.coef_[0, 0] / clf.coef_[0, 1]) * x_line - clf.intercept_[0] / clf.coef_[0, 1]\n",
    "\n",
    "            plt.plot(x_line, y_line, 'k-', label='Decision Boundary')\n",
    "\n",
    "        # Adding labels and legend\n",
    "        plt.xlabel('X1')\n",
    "        plt.ylabel('X2')\n",
    "        plt.title('Perceptron Decision Boundary')\n",
    "        plt.legend()\n",
    "\n",
    "        # Show the plot\n",
    "        plt.show()"
   ]
  },
  {
   "cell_type": "markdown",
   "metadata": {
    "id": "KibCIXIThpbE"
   },
   "source": [
    "## 1. Debug and Evaluation\n",
    "\n",
    "For most labs we will give you some data and expected results so that you can verify that you are doing things right and getting appropriate results.  We will then have you run on some other data with the exact same hyperparameters so we can see if your results are correct. \n",
    "\n",
    "### 1.1 Debug (5%)\n",
    "Download this [data set](https://raw.githubusercontent.com/cs472ta/CS472/master/datasets/linsep2nonorigin.arff) into your local directory and name it debug.arff.  To download rather than view, right-click the link and save as.  To allow consistent results run the Perceptron using the following hyperparameters:\n",
    "- Learning rate = .1\n",
    "- Do NOT shuffle the data after every epoch like you would normally do\n",
    "- Learn for a maximum of 10 epochs\n",
    "- Start all weights at 0 (which is the default for this scikit-learn implementation)  \n",
    "\n",
    "Your results should be:\n",
    "Accuracy = [.875]\\\n",
    "Final Weights = [[-0.23  0.18]]\\\n",
    "[-0.1] - This last weight is the bias weight, which they call the intercept.\n",
    "\n",
    "To help you with this first task, following is one detailed variation that would do this for you. You may use your own variation.  Note that commonly used variable names in the community are clf (classifier), X (array of input features), y (vector of output labels)."
   ]
  },
  {
   "cell_type": "code",
   "execution_count": 7,
   "metadata": {
    "id": "KgAyy82gixIF",
    "ExecuteTime": {
     "end_time": "2024-01-30T17:27:32.002342Z",
     "start_time": "2024-01-30T17:27:31.816783Z"
    }
   },
   "outputs": [
    {
     "name": "stdout",
     "output_type": "stream",
     "text": [
      "-- Epoch 1\n",
      "Norm: 0.04, NNZs: 2, Bias: -0.100000, T: 8, Avg. loss: 0.013500\n",
      "Total training time: 0.00 seconds.\n",
      "-- Epoch 2\n",
      "Norm: 0.07, NNZs: 2, Bias: -0.100000, T: 16, Avg. loss: 0.011875\n",
      "Total training time: 0.00 seconds.\n",
      "-- Epoch 3\n",
      "Norm: 0.11, NNZs: 2, Bias: -0.100000, T: 24, Avg. loss: 0.010250\n",
      "Total training time: 0.00 seconds.\n",
      "-- Epoch 4\n",
      "Norm: 0.14, NNZs: 2, Bias: -0.100000, T: 32, Avg. loss: 0.008625\n",
      "Total training time: 0.00 seconds.\n",
      "-- Epoch 5\n",
      "Norm: 0.18, NNZs: 2, Bias: -0.100000, T: 40, Avg. loss: 0.007000\n",
      "Total training time: 0.00 seconds.\n",
      "-- Epoch 6\n",
      "Norm: 0.21, NNZs: 2, Bias: -0.100000, T: 48, Avg. loss: 0.005375\n",
      "Total training time: 0.00 seconds.\n",
      "-- Epoch 7\n",
      "Norm: 0.23, NNZs: 2, Bias: -0.100000, T: 56, Avg. loss: 0.008250\n",
      "Total training time: 0.00 seconds.\n",
      "-- Epoch 8\n",
      "Norm: 0.25, NNZs: 2, Bias: -0.100000, T: 64, Avg. loss: 0.007625\n",
      "Total training time: 0.00 seconds.\n",
      "-- Epoch 9\n",
      "Norm: 0.27, NNZs: 2, Bias: -0.100000, T: 72, Avg. loss: 0.007000\n",
      "Total training time: 0.00 seconds.\n",
      "-- Epoch 10\n",
      "Norm: 0.29, NNZs: 2, Bias: -0.100000, T: 80, Avg. loss: 0.006375\n",
      "Total training time: 0.00 seconds.\n",
      "Weights: [[-0.23  0.18]]\n",
      "Intercept: [-0.1]\n",
      "Accuracy: 0.875\n"
     ]
    },
    {
     "name": "stderr",
     "output_type": "stream",
     "text": [
      "/Users/zacharyburns/Documents/repos/python/201R/venv/lib/python3.12/site-packages/sklearn/linear_model/_stochastic_gradient.py:723: ConvergenceWarning: Maximum number of iteration reached before convergence. Consider increasing max_iter to improve the fit.\n",
      "  warnings.warn(\n"
     ]
    }
   ],
   "source": [
    "from sklearn.linear_model import Perceptron\n",
    "\n",
    "load_data('debug.arff', 10)"
   ]
  },
  {
   "cell_type": "markdown",
   "metadata": {},
   "source": [
    "Notes:\n",
    "* If you increase (or just remove) max_iter your perceptron will converge to 100% in one more epoch.  Try it!\n",
    "* verbose (integer) specifies how much info you get after each epoch.  It does not change results.  Try it with 0.\n",
    "    * Norm is a measure of the total weight magnitudes in the current model.\n",
    "    * NNZs is the number of non-zero weights there currently are (not including the bias).\n",
    "    * clf.intercept_ is the value of the bias weight, NOT the actual y-intercept of the decision surface, though it will affect that.\n",
    "    * T is the total number of weight updates so far.  In this case all the weights were updated each epoch.\n",
    "    * Avg. loss is another measure of error.  More on that later.\n",
    "    * The activation function outputs 1 if net > 0, else 0."
   ]
  },
  {
   "cell_type": "markdown",
   "metadata": {
    "id": "kY3VNB1ui03N"
   },
   "source": [
    "### 1.2 (5%) Evaluation\n",
    "\n",
    "Now run your model  on the [evaluation dataset](https://raw.githubusercontent.com/cs472ta/CS472/master/datasets/data_banknote_authentication.arff) and report the final accuracy, weights, and bias. Use the exact same hyperparameters as the debug dataset. The most common reason for results not matching ours is not exactly using the same hyperparameters (e.g. initial weights, training exactly 10 epochs, no shuffling, etc.) Hint: Throughout these labs for the numerous cases where you are doing the same task, but with different data (e.g. debug, eval), you could create a function where you just pass the data set name, so as not to recreate the code multiple times."
   ]
  },
  {
   "cell_type": "code",
   "execution_count": 8,
   "metadata": {
    "id": "2yAxA78QjDh2",
    "ExecuteTime": {
     "end_time": "2024-01-30T17:27:32.017948Z",
     "start_time": "2024-01-30T17:27:32.002508Z"
    }
   },
   "outputs": [
    {
     "name": "stdout",
     "output_type": "stream",
     "text": [
      "-- Epoch 1\n",
      "Norm: 1.42, NNZs: 4, Bias: 2.100000, T: 1372, Avg. loss: 0.023615\n",
      "Total training time: 0.00 seconds.\n",
      "-- Epoch 2\n",
      "Norm: 2.90, NNZs: 4, Bias: 2.600000, T: 2744, Avg. loss: 0.022359\n",
      "Total training time: 0.00 seconds.\n",
      "-- Epoch 3\n",
      "Norm: 3.62, NNZs: 4, Bias: 3.500000, T: 4116, Avg. loss: 0.028435\n",
      "Total training time: 0.00 seconds.\n",
      "-- Epoch 4\n",
      "Norm: 4.36, NNZs: 4, Bias: 3.700000, T: 5488, Avg. loss: 0.013195\n",
      "Total training time: 0.00 seconds.\n",
      "-- Epoch 5\n",
      "Norm: 4.51, NNZs: 4, Bias: 4.300000, T: 6860, Avg. loss: 0.015216\n",
      "Total training time: 0.00 seconds.\n",
      "-- Epoch 6\n",
      "Norm: 4.70, NNZs: 4, Bias: 4.700000, T: 8232, Avg. loss: 0.026061\n",
      "Total training time: 0.00 seconds.\n",
      "-- Epoch 7\n",
      "Norm: 5.40, NNZs: 4, Bias: 4.600000, T: 9604, Avg. loss: 0.018060\n",
      "Total training time: 0.00 seconds.\n",
      "-- Epoch 8\n",
      "Norm: 5.83, NNZs: 4, Bias: 4.800000, T: 10976, Avg. loss: 0.018378\n",
      "Total training time: 0.00 seconds.\n",
      "-- Epoch 9\n",
      "Norm: 5.88, NNZs: 4, Bias: 5.200000, T: 12348, Avg. loss: 0.015085\n",
      "Total training time: 0.00 seconds.\n",
      "Convergence after 9 epochs took 0.00 seconds\n",
      "Weights: [[-4.28857497 -2.390381   -3.0160324  -1.1686672 ]]\n",
      "Intercept: [5.2]\n",
      "Accuracy: 0.9766763848396501\n"
     ]
    }
   ],
   "source": [
    "# Load evaluation data\n",
    "# Train on the evaluation data\n",
    "# print your accuracy and weights. Do not enter these values by hand.\n",
    "\n",
    "load_data('data_banknote_authentication.arff', 10)\n"
   ]
  },
  {
   "cell_type": "markdown",
   "metadata": {
    "id": "U-4J5VcS9umq"
   },
   "source": [
    "*Discussion - Open this box and type in your discussion.*  Note that after each exercise you will have a chance to discuss your effort and results.\n",
    "\n",
    "Final Accuracy = 0.9766763848396501\n",
    "Final Weights = [-4.28857497 -2.390381   -3.0160324  -1.1686672 ]\n",
    "Final Bias Weight = [5.2]\n",
    "\n",
    "I noticed while looking at the training data that the target switches from being 0 to 1 at a certain point. There must be something different about the data to make it so that a change in target is necessary. A quick glance at the data showed that for inputs where the target was 0, the first input was more likely to be positive. On the other hand, inputs where the target was 1, the first input was more likely to be negative. My theory is that the first input of each vector carries the most weight in the decision. That could be why in the final weights, the first weight as the greatest absolute value."
   ]
  },
  {
   "cell_type": "markdown",
   "metadata": {
    "id": "9vWiTdlbR2Xh"
   },
   "source": [
    "## 2. Classifying on linearly separable and non-linearly separable data\n",
    "\n",
    "### 2.1 (5%) Create 2 datasets\n",
    "\n",
    "- Both with 8 instances using 2 real valued inputs with 4 instances from each class. \n",
    "- One data set should be linearly separable and the other not.\n",
    "- Show or print your datasets"
   ]
  },
  {
   "cell_type": "code",
   "execution_count": 9,
   "metadata": {
    "id": "4SSoasDQSKXb",
    "ExecuteTime": {
     "end_time": "2024-01-30T17:27:32.018373Z",
     "start_time": "2024-01-30T17:27:32.012256Z"
    }
   },
   "outputs": [],
   "source": [
    "# Create and show the 2 datasets. \n",
    "# You could do it here in Python or create arff files in your local folder with a text editor.  Either way show your dataset.\n",
    "\n",
    "# Linearly Separable Dataset\n",
    "# -0.4, -0.4, 0\n",
    "# -0.2, -0.2, 0\n",
    "# 0.2, 0.2, 1\n",
    "# 0.4, 0.4, 1\n",
    "# -0.4, 0.4, 1\n",
    "# -0.2, 0.2, 1\n",
    "# 0.2, -0.2, 0\n",
    "# 0.4, -0.4, 0\n",
    "\n",
    "# Non-linearly Separable Dataset\n",
    "# 0, 0, 0\n",
    "# 0, 1, 1\n",
    "# 1, 0, 1\n",
    "# 1, 1, 0\n",
    "# 0.2, 0.2, 0\n",
    "# 0.8, 0.8, 0\n",
    "# 0.2, 0.8, 1\n",
    "# 0.8, 0.2, 1"
   ]
  },
  {
   "cell_type": "markdown",
   "metadata": {
    "id": "SIRG42TgSR4x"
   },
   "source": [
    "### 2.2 (5%) Train on both sets using the scikit-learn perceptron model\n",
    "- Train on each and print the results. Train until convergence (i.e. use the default max_iter by simply not specifying it).\n",
    "- You may choose your other hyperparameters."
   ]
  },
  {
   "cell_type": "code",
   "execution_count": 10,
   "metadata": {
    "id": "KBGUn43ASiXW",
    "ExecuteTime": {
     "end_time": "2024-01-30T17:27:32.020264Z",
     "start_time": "2024-01-30T17:27:32.015118Z"
    }
   },
   "outputs": [
    {
     "name": "stdout",
     "output_type": "stream",
     "text": [
      "Linearly Separable\n",
      "-- Epoch 1\n",
      "Norm: 0.12, NNZs: 1, Bias: 0.000000, T: 8, Avg. loss: 0.021000\n",
      "Total training time: 0.00 seconds.\n",
      "-- Epoch 2\n",
      "Norm: 0.12, NNZs: 1, Bias: 0.000000, T: 16, Avg. loss: 0.000000\n",
      "Total training time: 0.00 seconds.\n",
      "-- Epoch 3\n",
      "Norm: 0.12, NNZs: 1, Bias: 0.000000, T: 24, Avg. loss: 0.000000\n",
      "Total training time: 0.00 seconds.\n",
      "-- Epoch 4\n",
      "Norm: 0.12, NNZs: 1, Bias: 0.000000, T: 32, Avg. loss: 0.000000\n",
      "Total training time: 0.00 seconds.\n",
      "-- Epoch 5\n",
      "Norm: 0.12, NNZs: 1, Bias: 0.000000, T: 40, Avg. loss: 0.000000\n",
      "Total training time: 0.00 seconds.\n",
      "-- Epoch 6\n",
      "Norm: 0.12, NNZs: 1, Bias: 0.000000, T: 48, Avg. loss: 0.000000\n",
      "Total training time: 0.00 seconds.\n",
      "-- Epoch 7\n",
      "Norm: 0.12, NNZs: 1, Bias: 0.000000, T: 56, Avg. loss: 0.000000\n",
      "Total training time: 0.00 seconds.\n",
      "Convergence after 7 epochs took 0.00 seconds\n",
      "Weights: [[0.   0.12]]\n",
      "Intercept: [0.]\n",
      "Accuracy: 1.0\n",
      "\n",
      "Non-Linearly Separable\n",
      "-- Epoch 1\n",
      "Norm: 0.06, NNZs: 1, Bias: 0.000000, T: 8, Avg. loss: 0.065000\n",
      "Total training time: 0.00 seconds.\n",
      "-- Epoch 2\n",
      "Norm: 0.12, NNZs: 1, Bias: 0.000000, T: 16, Avg. loss: 0.060500\n",
      "Total training time: 0.00 seconds.\n",
      "-- Epoch 3\n",
      "Norm: 0.10, NNZs: 2, Bias: 0.000000, T: 24, Avg. loss: 0.050500\n",
      "Total training time: 0.00 seconds.\n",
      "-- Epoch 4\n",
      "Norm: 0.09, NNZs: 2, Bias: 0.000000, T: 32, Avg. loss: 0.049500\n",
      "Total training time: 0.00 seconds.\n",
      "-- Epoch 5\n",
      "Norm: 0.16, NNZs: 2, Bias: 0.000000, T: 40, Avg. loss: 0.036000\n",
      "Total training time: 0.00 seconds.\n",
      "-- Epoch 6\n",
      "Norm: 0.14, NNZs: 2, Bias: 0.000000, T: 48, Avg. loss: 0.052500\n",
      "Total training time: 0.00 seconds.\n",
      "-- Epoch 7\n",
      "Norm: 0.12, NNZs: 2, Bias: 0.000000, T: 56, Avg. loss: 0.051500\n",
      "Total training time: 0.00 seconds.\n",
      "-- Epoch 8\n",
      "Norm: 0.10, NNZs: 2, Bias: 0.000000, T: 64, Avg. loss: 0.050500\n",
      "Total training time: 0.00 seconds.\n",
      "-- Epoch 9\n",
      "Norm: 0.09, NNZs: 2, Bias: 0.000000, T: 72, Avg. loss: 0.049500\n",
      "Total training time: 0.00 seconds.\n",
      "-- Epoch 10\n",
      "Norm: 0.16, NNZs: 2, Bias: 0.000000, T: 80, Avg. loss: 0.036000\n",
      "Total training time: 0.00 seconds.\n",
      "Convergence after 10 epochs took 0.00 seconds\n",
      "Weights: [[-0.04  0.16]]\n",
      "Intercept: [0.]\n",
      "Accuracy: 0.5\n"
     ]
    }
   ],
   "source": [
    "# Train and print results with both datasets\n",
    "print(\"Linearly Separable\")\n",
    "load_data('linearly_separable.arff', 1000) # 1000 is the default max_iter as specified in the perceptron documentation\n",
    "print(\"\\nNon-Linearly Separable\")\n",
    "load_data('non_linearly_separable.arff', 1000)"
   ]
  },
  {
   "cell_type": "markdown",
   "metadata": {
    "id": "890A39KX9zLC"
   },
   "source": [
    "*Discussion*\n",
    "\n",
    "Linearly Separable Data: Anything where the y value is > 0 yields a 1. Anything where the y value < 0 yields a 0.\n",
    "\n",
    "Non-Linearly Separable Data: Is modeled after the exclusive or function. The closer x and y are to equivalent, the greater the likelihood that the expected output is a 0. This creates a line down the center of the data that separates one-half of the data in one class from other data in its class.\n",
    "\n",
    "After making the data, running the learning, and then graphing and viewing the results, I noticed that perceptron found a line such that y = 0x for linearly separable data. This is to be expected since the rule for defining classes was determined based on the sign of the y input.\n",
    "\n",
    "As for the non-linearly separable data, perceptron got roughly 50% accuracy; as good a guessing. This is also to be expected since the data was not linearly separable. However, I did find it interesting that it drew the line such that y = 0.25x despite there being many different locations that it could draw the line and yield the same results. My hypothesis was that this was because of the order of the data and my ordering caused this particular line. I turned shuffling on and sure enough, the graph produced a different line. From my testing, I only got one other line though."
   ]
  },
  {
   "cell_type": "markdown",
   "metadata": {
    "id": "v19fpixqTe-7"
   },
   "source": [
    "### 2.3 (10%) Graph the datasets and their corresponding decision line\n",
    " \n",
    " - Graph each dataset\n",
    " - Use your trained perceptrons above to determine each dataset's decision line\n",
    "    - We discussed how to find the slope and intercept in class and the equation is in the Perceptron slides\n",
    " - For all graphs always label the axes!\n",
    " - Following are examples of what graphs could look like\n",
    " \n",
    "![Linearly Separable Data](https://raw.githubusercontent.com/rmorain/CS472-1/master/images/perceptron/linearly_separable.png)\n",
    "\n",
    "![Not Linearly Separable](https://raw.githubusercontent.com/rmorain/CS472-1/master/images/perceptron/not_linearly_separable.png)"
   ]
  },
  {
   "cell_type": "code",
   "execution_count": 11,
   "metadata": {
    "colab": {
     "base_uri": "https://localhost:8080/",
     "height": 312
    },
    "id": "8l64tZUqCEwy",
    "outputId": "d111d17a-4813-4e52-c0df-3790ebe6f7b6",
    "ExecuteTime": {
     "end_time": "2024-01-30T17:27:32.342586Z",
     "start_time": "2024-01-30T17:27:32.021547Z"
    }
   },
   "outputs": [
    {
     "data": {
      "text/plain": "<Figure size 640x480 with 1 Axes>",
      "image/png": "[encoded data removed]"
     },
     "metadata": {},
     "output_type": "display_data"
    }
   ],
   "source": [
    "# Sample Graph code, You can use any graphing approach you want including this one.\n",
    "# We encourage you to use matplotlib.\n",
    "\n",
    "\n",
    "# The data in this example is made up.  You will use your real data.\n",
    "data = np.array([[-.9,-.9],[-.6,.6],[-.3,.3],[-.1,.1],[.1,.456],[.3,-.324],[.6,.778],[.9,-.76]])\n",
    "labels = np.array([0,0,0,0,1,1,1,1])\n",
    "\n",
    "# Create a scatter plot of data\n",
    "plt.xlim(-1,1)\n",
    "plt.ylim(-1,1)\n",
    "scatter = plt.scatter(data[:,0], data[:,1], c = labels, s=200, cmap='seismic')\n",
    "legend = plt.legend(*scatter.legend_elements(num=1), title=\"Class\", loc='upper right') # Legend\n",
    "\n",
    "# Plot the learned separator.  We just made up the slope and intercept for this example. You need to calculate \n",
    "# the correct slope and intercept using your learned weights and bias.\n",
    "xlist = np.linspace(-1.0, 1.0, 100) # create 100 evenly spaced points between -1 and 1 for the x axis\n",
    "ylist = np.linspace(-1.0, 1.0, 100) # create 100 evenly spaced points between -1 and 1 for the y axis\n",
    "slope = -2  # made up\n",
    "intercept = 0.1 # made up\n",
    "eq = slope*xlist + intercept\n",
    "plt.plot(xlist,  eq, '-k', )\n",
    "plt.title('Linearly Separable Data Example')\n",
    "plt.xlabel('x')\n",
    "plt.ylabel('y')\n",
    "plt.grid() # add grid lines\n",
    "plt.show() # show the plot"
   ]
  },
  {
   "cell_type": "code",
   "execution_count": 12,
   "metadata": {
    "id": "ZCPFUAGTS2sX",
    "ExecuteTime": {
     "end_time": "2024-01-30T17:27:32.461407Z",
     "start_time": "2024-01-30T17:27:32.310941Z"
    }
   },
   "outputs": [
    {
     "name": "stdout",
     "output_type": "stream",
     "text": [
      "-- Epoch 1\n",
      "Norm: 0.12, NNZs: 1, Bias: 0.000000, T: 8, Avg. loss: 0.021000\n",
      "Total training time: 0.00 seconds.\n",
      "-- Epoch 2\n",
      "Norm: 0.12, NNZs: 1, Bias: 0.000000, T: 16, Avg. loss: 0.000000\n",
      "Total training time: 0.00 seconds.\n",
      "-- Epoch 3\n",
      "Norm: 0.12, NNZs: 1, Bias: 0.000000, T: 24, Avg. loss: 0.000000\n",
      "Total training time: 0.00 seconds.\n",
      "-- Epoch 4\n",
      "Norm: 0.12, NNZs: 1, Bias: 0.000000, T: 32, Avg. loss: 0.000000\n",
      "Total training time: 0.00 seconds.\n",
      "-- Epoch 5\n",
      "Norm: 0.12, NNZs: 1, Bias: 0.000000, T: 40, Avg. loss: 0.000000\n",
      "Total training time: 0.00 seconds.\n",
      "-- Epoch 6\n",
      "Norm: 0.12, NNZs: 1, Bias: 0.000000, T: 48, Avg. loss: 0.000000\n",
      "Total training time: 0.00 seconds.\n",
      "-- Epoch 7\n",
      "Norm: 0.12, NNZs: 1, Bias: 0.000000, T: 56, Avg. loss: 0.000000\n",
      "Total training time: 0.00 seconds.\n",
      "Convergence after 7 epochs took 0.00 seconds\n",
      "Weights: [[0.   0.12]]\n",
      "Intercept: [0.]\n",
      "Accuracy: 1.0\n"
     ]
    },
    {
     "data": {
      "text/plain": "<Figure size 640x480 with 1 Axes>",
      "image/png": "[encoded data removed]"
     },
     "metadata": {},
     "output_type": "display_data"
    },
    {
     "name": "stdout",
     "output_type": "stream",
     "text": [
      "\n",
      "Non-Linearly Separable\n",
      "-- Epoch 1\n",
      "Norm: 0.06, NNZs: 1, Bias: 0.000000, T: 8, Avg. loss: 0.065000\n",
      "Total training time: 0.00 seconds.\n",
      "-- Epoch 2\n",
      "Norm: 0.12, NNZs: 1, Bias: 0.000000, T: 16, Avg. loss: 0.060500\n",
      "Total training time: 0.00 seconds.\n",
      "-- Epoch 3\n",
      "Norm: 0.10, NNZs: 2, Bias: 0.000000, T: 24, Avg. loss: 0.050500\n",
      "Total training time: 0.00 seconds.\n",
      "-- Epoch 4\n",
      "Norm: 0.09, NNZs: 2, Bias: 0.000000, T: 32, Avg. loss: 0.049500\n",
      "Total training time: 0.00 seconds.\n",
      "-- Epoch 5\n",
      "Norm: 0.16, NNZs: 2, Bias: 0.000000, T: 40, Avg. loss: 0.036000\n",
      "Total training time: 0.00 seconds.\n",
      "-- Epoch 6\n",
      "Norm: 0.14, NNZs: 2, Bias: 0.000000, T: 48, Avg. loss: 0.052500\n",
      "Total training time: 0.00 seconds.\n",
      "-- Epoch 7\n",
      "Norm: 0.12, NNZs: 2, Bias: 0.000000, T: 56, Avg. loss: 0.051500\n",
      "Total training time: 0.00 seconds.\n",
      "-- Epoch 8\n",
      "Norm: 0.10, NNZs: 2, Bias: 0.000000, T: 64, Avg. loss: 0.050500\n",
      "Total training time: 0.00 seconds.\n",
      "-- Epoch 9\n",
      "Norm: 0.09, NNZs: 2, Bias: 0.000000, T: 72, Avg. loss: 0.049500\n",
      "Total training time: 0.00 seconds.\n",
      "-- Epoch 10\n",
      "Norm: 0.16, NNZs: 2, Bias: 0.000000, T: 80, Avg. loss: 0.036000\n",
      "Total training time: 0.00 seconds.\n",
      "Convergence after 10 epochs took 0.00 seconds\n",
      "Weights: [[-0.04  0.16]]\n",
      "Intercept: [0.]\n",
      "Accuracy: 0.5\n"
     ]
    },
    {
     "data": {
      "text/plain": "<Figure size 640x480 with 1 Axes>",
      "image/png": "[encoded data removed]"
     },
     "metadata": {},
     "output_type": "display_data"
    }
   ],
   "source": [
    "# Graph datasets and print(\"Linearly Separable\")\n",
    "load_data('linearly_separable.arff', 1000, plot=True) \n",
    "\n",
    "print(\"\\nNon-Linearly Separable\")\n",
    "load_data('non_linearly_separable.arff', 1000, plot=True)"
   ]
  },
  {
   "cell_type": "markdown",
   "metadata": {
    "id": "M7dyHR0c92zd"
   },
   "source": [
    "*Discussion* \n",
    "\n",
    "I discussed the graphs in my previous discussion."
   ]
  },
  {
   "cell_type": "markdown",
   "metadata": {
    "id": "_N5RXV8AzdRF"
   },
   "source": [
    "### 2.4 (5%) Discuss why perceptrons in general will not get perfect accuracy on non-linearly separable data"
   ]
  },
  {
   "cell_type": "markdown",
   "source": [
    "*Discussion*\n",
    "\n",
    "I feel like it's pretty simple. If the data cannot be separated into classes with a linear function, then the perceptron (something that creates a linear function to separate data into classes) won't be able to do that. It will create a line as best it can, but ultimately, if a line cannot be drawn to perfectly separate the classes, perceptrons will not be perfectly accurate when attempting to separate the classes."
   ],
   "metadata": {
    "collapsed": false
   }
  },
  {
   "cell_type": "markdown",
   "metadata": {
    "id": "0ySvhd1lUGSe"
   },
   "source": [
    "## 3. Use the perceptron to learn this version of the [voting data set](https://raw.githubusercontent.com/cs472ta/CS472/master/datasets/voting-dataset.arff)\n",
    "\n",
    "This particular task is an edited version of the standard voting set, where we have replaced all the “don’t know” values with the most common value for the particular attribute. Look at the [tutorial](https://github.com/cs472ta/CS472/blob/master/Tutorial.ipynb) from the Labs Content page to see examples of prepping the voting data set for sklearn.\n",
    "\n",
    "### 3.1 (10%) Average final training and test set accuracy over multiple trials\n",
    "\n",
    "- Learn the voting data five times with different random 70/30 Training/Test splits each time\n",
    "- Use a learning rate of 1.  The other hyperparameters are up to you.\n",
    "- Report the 5 trials and the average training and test accuracy and number of epochs to converge across the 5 trials in a table \n",
    "    - Below is an example of what a 2 trial table might look like\n",
    "\n",
    "| Trial | Training Accuracy | Test accuracy | Number of epochs |\n",
    "| --- | --- | --- | --- |\n",
    "| 1 | .950 | .550 | 4 |\n",
    "| 2 | .850 | .450 | 6 |\n",
    "| Average | .900 | .500 | 5 | \n",
    "\n",
    "*- As a rough sanity check, typical Perceptron test accuracies for the voting data set are 90%-98%.*\n"
   ]
  },
  {
   "cell_type": "code",
   "execution_count": 13,
   "metadata": {
    "id": "Romyl4G8Trki",
    "ExecuteTime": {
     "end_time": "2024-01-30T17:27:32.518750Z",
     "start_time": "2024-01-30T17:27:32.466398Z"
    }
   },
   "outputs": [
    {
     "name": "stdout",
     "output_type": "stream",
     "text": [
      "Trial      Training Accuracy    Testing Accuracy    Number of Epochs\n",
      "-------  -------------------  ------------------  ------------------\n",
      "1                   0.965839            0.956835                14\n",
      "2                   0.956522            0.956835                10\n",
      "3                   0.934783            0.928058                13\n",
      "4                   0.97205             0.928058                 9\n",
      "5                   0.968944            0.956835                12\n",
      "Average             0.959627            0.945324                11.6\n"
     ]
    }
   ],
   "source": [
    "# Run the perceptron 5 times on the voting data set with different splits and record the results.\n",
    "# Hint: look up scikit-learn train_test_split\n",
    "from sklearn.model_selection import train_test_split\n",
    "from sklearn.preprocessing import LabelEncoder\n",
    "\n",
    "# Create the table using the tool of your choice\n",
    "voting_data = arff.loadarff('voting-dataset.arff')\n",
    "voting_df = pd.DataFrame(voting_data[0])\n",
    "voting_label_encoded_df = voting_df.apply(LabelEncoder().fit_transform)\n",
    "\n",
    "Data_Set_np = voting_label_encoded_df.to_numpy()\n",
    "\n",
    "X = Data_Set_np[:, :-1]\n",
    "y = Data_Set_np[:, -1]\n",
    "\n",
    "# create a list of 5 different testing percentages\n",
    "test_sizes = [0.7, 0.7, 0.7, 0.7, 0.7]\n",
    "\n",
    "def train_voting_data(x, y, percentage: float):\n",
    "    # separate data into training and testing splits\n",
    "    x_train, x_test, y_train, y_test = train_test_split(x, y, train_size=percentage, test_size=(1-percentage))\n",
    "    \n",
    "    # create perceptron\n",
    "    clf = Perceptron(shuffle=False, verbose=0, eta0=1)\n",
    "    \n",
    "    # train perceptron\n",
    "    clf.fit(x_train, y_train)\n",
    "    \n",
    "    # get training accuracy\n",
    "    train_accuracy = clf.score(x_train, y_train)\n",
    "    \n",
    "    # get testing accuracy\n",
    "    test_accuracy = clf.score(x_test, y_test)\n",
    "    \n",
    "    return train_accuracy, test_accuracy, clf.n_iter_\n",
    "    \n",
    "    \n",
    "headers = [\"Trial\", \"Training Accuracy\", \"Testing Accuracy\", \"Number of Epochs\"]\n",
    "table = []\n",
    "for index, percentage in enumerate(test_sizes):\n",
    "    training_accuracy, testing_accuracy, num_epochs = train_voting_data(X, y, percentage)\n",
    "    table.append([index + 1, training_accuracy, testing_accuracy, num_epochs])\n",
    "    \n",
    "data = np.array(table)\n",
    "average_training_accuracy = np.mean(data[:, 1])\n",
    "average_test_accuracy = np.mean(data[:, 2])\n",
    "average_epochs = np.mean(data[:, 3])\n",
    "table.append([\"Average\", average_training_accuracy, average_test_accuracy, average_epochs])\n",
    "    \n",
    "from tabulate import tabulate\n",
    "print(tabulate(table, headers))\n",
    "    \n",
    "\n"
   ]
  },
  {
   "cell_type": "markdown",
   "metadata": {
    "id": "cm4rbWkzVeoR"
   },
   "source": [
    "### 3.2 (10%) Interpreting the Model\n",
    "- Learn with the perceptron once on the full voting data set\n",
    "- Look at the learned weights and bias and do your best to explain what the model has learned and how the individual input features affect the result. \n",
    "- Which specific features are most critical for the voting task, and which are least critical? "
   ]
  },
  {
   "cell_type": "code",
   "execution_count": 14,
   "metadata": {
    "ExecuteTime": {
     "end_time": "2024-01-30T17:27:32.519147Z",
     "start_time": "2024-01-30T17:27:32.492217Z"
    }
   },
   "outputs": [
    {
     "name": "stdout",
     "output_type": "stream",
     "text": [
      "Weights: [[ 2. -3. -7. 19.  3. -2.  1.  5. -9.  2. -9.  1.  0.  0. -3.  6.]]\n",
      "Intercept: [-9.]\n",
      "Accuracy: 0.9674620390455532\n"
     ]
    }
   ],
   "source": [
    "# Learn once on the full voting data set.  If you Look at our tutorial at the beginning \n",
    "from sklearn.model_selection import train_test_split\n",
    "from sklearn.preprocessing import LabelEncoder\n",
    "\n",
    "# Create the table using the tool of your choice\n",
    "voting_data = arff.loadarff('voting-dataset.arff')\n",
    "voting_df = pd.DataFrame(voting_data[0])\n",
    "voting_label_encoded_df = voting_df.apply(LabelEncoder().fit_transform)\n",
    "\n",
    "Data_Set_np = voting_label_encoded_df.to_numpy()\n",
    "\n",
    "X = Data_Set_np[:, :-1] # every row from start to end and every column from start to end (excluding the last column).\n",
    "y = Data_Set_np[:, -1] # every row, only the last column\n",
    "\n",
    "clf = Perceptron(shuffle=False, verbose=0, eta0=1)\n",
    "\n",
    "clf.fit(X, y)\n",
    "# Print weights, intercept, and accuracy\n",
    "print(\"Weights:\", clf.coef_)\n",
    "print(\"Intercept:\", clf.intercept_)\n",
    "print(\"Accuracy:\", clf.score(X, y))"
   ]
  },
  {
   "cell_type": "markdown",
   "metadata": {},
   "source": [
    "Discuss how the different features effect prediction\n",
    "\n",
    "It appears that 'physician-fee-freeze' is the most critical attribute for the voting task as it has the highest weight. However, looking at the data 'physician-fee-freeze' was the attribute with the greatest number of missing values. This could be an issue given its weight is more than double the magnitude of the next greatest weights: a tie between 'mx-missle' and 'synfuels-corporation-cutback.'\n",
    "\n",
    "The difference in weights also suggest that some parameters are not useful when determining the voting: 'crime' and 'superfund-right-to-sue.' That's essentially what the weights mean: attributes with a greater magnitude are more important for the decision than attribute weights with a low magnitude. \n"
   ]
  },
  {
   "cell_type": "markdown",
   "metadata": {
    "id": "NyUmJ4yWVsQ7"
   },
   "source": [
    "### 3.3 (15%) Misclassification rate vs epochs \n",
    "\n",
    "Learn with the perceptron once on the full voting data set and graph the misclassification rate (number_misclassified  /  number_of_total_data_points) at each epoch until convergence (0th – final epoch).  Hints:\n",
    "- For the 0th epoch (i.e. initial weights), assume the initial misclassification rate is 66% and let that be the first point on your graph. Since there are 3 output classes, random guessing would only get it right about 1/3 of the time. Missclassification rate is 1 - accuracy.\n",
    "- Doing clf.fit with max_iter = 1, and warm_start=True will let you loop through epochs one at a time, allowing you to look at accuracy, etc. after each epoch.  But how do you know how many epochs to run until convergence?  One way is to just to first run it until convergence with random_state = c to see how many epochs it took (n_iter_).  Then run it again one epoch at a time n_iter_ times using the same random_state constant c (so that you get the exact same conditions).\n",
    "- Below is a rough example of what this type of graph might look like (though this graph is for avg rate across multiple trials)\n",
    "\n",
    "![Average Misclassification Rate](https://raw.githubusercontent.com/rmorain/CS472-1/master/images/perceptron/avg_misclassification_rate_vs_epochs.png)"
   ]
  },
  {
   "cell_type": "code",
   "execution_count": 15,
   "metadata": {
    "id": "2_ZRPWWVVeFM",
    "ExecuteTime": {
     "end_time": "2024-01-30T17:27:32.635888Z",
     "start_time": "2024-01-30T17:27:32.517771Z"
    }
   },
   "outputs": [
    {
     "data": {
      "text/plain": "<Figure size 640x480 with 1 Axes>",
      "image/png": "[encoded data removed]"
     },
     "metadata": {},
     "output_type": "display_data"
    }
   ],
   "source": [
    "# Learn once on the full voting data set, while gathering info after every epoch\n",
    "# Then Graph it here.  Here is some sample graph code, but you can do it your own way, including using a bar graph, etc.\n",
    " \n",
    "def plot_misclassification(misclassification_rates):\n",
    "    \"\"\"\n",
    "    Plots the misclassification rates across epochs.\n",
    "    Args:\n",
    "        misclassification_rates (list): List of misclassification rates at each epoch.\n",
    "    \"\"\"\n",
    "    plt.plot(np.arange(len(misclassification_rates)), misclassification_rates)\n",
    "    plt.title(\"Misclassification Rate vs. Epoch\")\n",
    "    plt.xlabel(\"Epoch\")\n",
    "    plt.ylabel(\"Misclassification Rate\")\n",
    "    plt.show()\n",
    "\n",
    "voting_data = arff.loadarff('voting-dataset.arff')\n",
    "voting_df = pd.DataFrame(voting_data[0])\n",
    "voting_label_encoded_df = voting_df.apply(LabelEncoder().fit_transform)\n",
    "data_set_np = voting_label_encoded_df.to_numpy()\n",
    "\n",
    "X = data_set_np[:, :-1]\n",
    "y = data_set_np[:, -1]\n",
    "\n",
    "# Identify unique classes in the target variable\n",
    "classes = np.unique(y)\n",
    "\n",
    "clf = Perceptron(shuffle=False, verbose=0, eta0=1)\n",
    "\n",
    "epochs = 8\n",
    "misclassification_rates = [0.66]\n",
    "\n",
    "clf.partial_fit(X, y, classes=classes)\n",
    "\n",
    "for epoch in range(epochs - 1):  # Skip the first epoch as we've already done it\n",
    "    clf.partial_fit(X, y)\n",
    "    predictions = clf.predict(X)\n",
    "    misclassification_rate = (y != predictions).mean()\n",
    "    misclassification_rates.append(misclassification_rate)\n",
    "\n",
    "# Plot the misclassification rates after all epochs\n",
    "plot_misclassification(misclassification_rates)"
   ]
  },
  {
   "cell_type": "markdown",
   "metadata": {
    "id": "PgqUrgh--GeU"
   },
   "source": [
    "*Show table and discuss*\n",
    "\n",
    "It appears as though the perceptron is quickly able to correctly classify the data after only a few epochs. It is interesting how after epoch 1, the missclassification rate increases a bit before dropping lower. I'm not sure if that is just a product of these data or if it's something that is common. "
   ]
  },
  {
   "cell_type": "markdown",
   "metadata": {},
   "source": [
    "### 3.4 (15%) Hyperparameters\n",
    "Read over all the Hyperparameters and their defaults in the scikit [perceptron documentation](https://scikit-learn.org/stable/modules/generated/sklearn.linear_model.Perceptron.html). With the voting data set, experiment briefly with EACH of the following 6 hyperparameters and discuss your findings.\n",
    "- shuffle\n",
    "- eta0 - learning rate\n",
    "- verbose\n",
    "- fit_intercept - whether to use a bias weight or not\n",
    "- random state\n",
    "- warm start"
   ]
  },
  {
   "cell_type": "code",
   "execution_count": 16,
   "metadata": {
    "ExecuteTime": {
     "end_time": "2024-01-30T17:27:32.732676Z",
     "start_time": "2024-01-30T17:27:32.643987Z"
    }
   },
   "outputs": [
    {
     "name": "stdout",
     "output_type": "stream",
     "text": [
      "clf_default\n",
      "Weights: [[  0.  -3.  -8.  17.   4.  -2.   5.   6.  -7.   5. -10.  -1.  -1.   0.\n",
      "   -4.   5.]]\n",
      "Intercept: [-9.]\n",
      "Accuracy: 0.9609544468546638\n",
      "\n",
      "clf_shuffle\n",
      "Weights: [[ 2. -3. -7. 19.  3. -2.  1.  5. -9.  2. -9.  1.  0.  0. -3.  6.]]\n",
      "Intercept: [-9.]\n",
      "Accuracy: 0.9674620390455532\n",
      "\n",
      "clf_verbose\n",
      "-- Epoch 1\n",
      "Norm: 14.28, NNZs: 12, Bias: -2.000000, T: 461, Avg. loss: 0.305857\n",
      "Total training time: 0.00 seconds.\n",
      "-- Epoch 2\n",
      "Norm: 17.26, NNZs: 11, Bias: -3.000000, T: 922, Avg. loss: 0.308026\n",
      "Total training time: 0.00 seconds.\n",
      "-- Epoch 3\n",
      "Norm: 18.97, NNZs: 15, Bias: -5.000000, T: 1383, Avg. loss: 0.255965\n",
      "Total training time: 0.00 seconds.\n",
      "-- Epoch 4\n",
      "Norm: 20.90, NNZs: 15, Bias: -5.000000, T: 1844, Avg. loss: 0.203905\n",
      "Total training time: 0.00 seconds.\n",
      "-- Epoch 5\n",
      "Norm: 22.43, NNZs: 14, Bias: -7.000000, T: 2305, Avg. loss: 0.253796\n",
      "Total training time: 0.00 seconds.\n",
      "-- Epoch 6\n",
      "Norm: 23.17, NNZs: 16, Bias: -8.000000, T: 2766, Avg. loss: 0.208243\n",
      "Total training time: 0.00 seconds.\n",
      "-- Epoch 7\n",
      "Norm: 23.85, NNZs: 15, Bias: -8.000000, T: 3227, Avg. loss: 0.210412\n",
      "Total training time: 0.00 seconds.\n",
      "-- Epoch 8\n",
      "Norm: 25.22, NNZs: 15, Bias: -10.000000, T: 3688, Avg. loss: 0.234273\n",
      "Total training time: 0.00 seconds.\n",
      "-- Epoch 9\n",
      "Norm: 25.69, NNZs: 14, Bias: -9.000000, T: 4149, Avg. loss: 0.277657\n",
      "Total training time: 0.00 seconds.\n",
      "Convergence after 9 epochs took 0.00 seconds\n",
      "Weights: [[  0.  -3.  -8.  17.   4.  -2.   5.   6.  -7.   5. -10.  -1.  -1.   0.\n",
      "   -4.   5.]]\n",
      "Intercept: [-9.]\n",
      "Accuracy: 0.9609544468546638\n",
      "\n",
      "clf_eta\n",
      "Weights: [[-1.00000000e-01 -2.00000000e-01 -8.00000000e-01  1.60000000e+00\n",
      "   2.00000000e-01 -3.00000000e-01  7.00000000e-01  6.00000000e-01\n",
      "  -7.00000000e-01  4.00000000e-01 -9.00000000e-01  1.00000000e-01\n",
      "  -2.77555756e-17  2.77555756e-17 -5.00000000e-01  5.00000000e-01]]\n",
      "Intercept: [-0.9]\n",
      "Accuracy: 0.9631236442516269\n",
      "\n",
      "clf_fit_intercept\n",
      "Weights: [[-4. -6. -8. 15.  3. -5.  2.  5. -6.  4. -9.  0.  1. -3. -7.  0.]]\n",
      "Intercept: [0.]\n",
      "Accuracy: 0.93058568329718\n",
      "\n",
      "clf_random\n",
      "Weights: [[ 0. -1. -7. 16.  5. -2.  4.  5. -6.  1. -9. -1.  3.  1. -5.  1.]]\n",
      "Intercept: [-9.]\n",
      "Accuracy: 0.96529284164859\n",
      "\n",
      "clf_warm_start\n",
      "Weights: [[  0.  -3.  -8.  17.   4.  -2.   5.   6.  -7.   5. -10.  -1.  -1.   0.\n",
      "   -4.   5.]]\n",
      "Intercept: [-9.]\n",
      "Accuracy: 0.9609544468546638\n",
      "\n",
      "Warm Start 2\n",
      "Weights: [[ -1.   0.  -8.  18.   4.  -1.   4.   8.  -8.   6. -10.   1.   1.   1.\n",
      "   -7.   2.]]\n",
      "Intercept: [-10.]\n",
      "Accuracy: 0.9587852494577006\n"
     ]
    }
   ],
   "source": [
    "# Run the model with different hyperparameters\n",
    "voting_data = arff.loadarff('voting-dataset.arff')\n",
    "voting_df = pd.DataFrame(voting_data[0])\n",
    "voting_label_encoded_df = voting_df.apply(LabelEncoder().fit_transform)\n",
    "data_set_np = voting_label_encoded_df.to_numpy()\n",
    "\n",
    "X = data_set_np[:, :-1]\n",
    "y = data_set_np[:, -1]\n",
    "\n",
    "# DEFAULTS               shuffle=True, verbose=0, eta0=1, fit_intercept=True, random_state=0, warm_start=False\n",
    "perceptrons = {\n",
    "    'clf_default': Perceptron(shuffle=True, verbose=0, eta0=1, fit_intercept=True, random_state=0, warm_start=False),\n",
    "    'clf_shuffle': Perceptron(shuffle=False, verbose=0, eta0=1, fit_intercept=True, random_state=0, warm_start=False),\n",
    "    'clf_verbose': Perceptron(shuffle=True, verbose=10, eta0=1, fit_intercept=True, random_state=0, warm_start=False),\n",
    "    'clf_eta': Perceptron(shuffle=True, verbose=0, eta0=0.1, fit_intercept=True, random_state=0, warm_start=False),\n",
    "    'clf_fit_intercept': Perceptron(shuffle=True, verbose=0, eta0=1, fit_intercept=False, random_state=0, warm_start=False),\n",
    "    'clf_random': Perceptron(shuffle=True, verbose=0, eta0=1, fit_intercept=True, random_state=None, warm_start=False),\n",
    "    'clf_warm_start': Perceptron(shuffle=True, verbose=0, eta0=1, fit_intercept=True, random_state=0, warm_start=True),\n",
    "}\n",
    "\n",
    "for perceptron in perceptrons.keys():\n",
    "    print(perceptron)\n",
    "    \n",
    "    clf = perceptrons[perceptron]\n",
    "    \n",
    "    clf.fit(X, y)\n",
    "    \n",
    "    print(\"Weights:\", clf.coef_)\n",
    "    print(\"Intercept:\", clf.intercept_)\n",
    "    print(\"Accuracy:\", clf.score(X, y))\n",
    "    print()\n",
    "    \n",
    "    if perceptron == 'clf_warm_start':\n",
    "        clf.fit(X, y)\n",
    "        print(\"Warm Start 2\")\n",
    "        print(\"Weights:\", clf.coef_)\n",
    "        print(\"Intercept:\", clf.intercept_)\n",
    "        print(\"Accuracy:\", clf.score(X, y))\n",
    "        print()\n",
    "    \n",
    "\n"
   ]
  },
  {
   "cell_type": "markdown",
   "metadata": {},
   "source": [
    "Discussion\n",
    "\n",
    "For each of these hyperparameters, I'm comparing them to a perceptron with all hyperparameters set to the default.\n",
    "\n",
    "shuffle=False\n",
    "Produced the same bias but had different accuracies and weights. Accuracies and weights were similar to the default though.\n",
    "\n",
    "verbose=1\n",
    "Seems to just print extra information regarding each epoch. A good way to determine how many epochs were done before the perceptron converged. \n",
    "\n",
    "eta0=0.1\n",
    "Seems to have produced a bias and weights that are a factor of 10 smaller than the default perceptron. Accuracy remains similar to the default though. \n",
    "\n",
    "fit_intercept=False\n",
    "Appears to have set the intercept to zero. The weights somewhat resemble the weights of the default perceptron but the accuracy has decreased.\n",
    "\n",
    "random_state=None\n",
    "Makes it so that each time the perceptron is fit it gives a different result. \n",
    "\n",
    "warm_start=True\n",
    "I called fit a second time after calling it once with warm start. This second fit gave me new weights, intercept, and accuracy. The accuracy was worse however. "
   ]
  },
  {
   "cell_type": "markdown",
   "metadata": {
    "id": "mxssT08TzdRH"
   },
   "source": [
    "## 4 (15%) Use the perceptron to learn one other data set of your choice.  \n",
    "- The UC Irvine Data Repository is one great source, but you may get your data set from wherever you like, though it should be a real world task.\n",
    "- Report your results"
   ]
  },
  {
   "cell_type": "code",
   "execution_count": 17,
   "metadata": {
    "id": "hqPZLMf1zdRH",
    "ExecuteTime": {
     "end_time": "2024-01-30T17:27:32.748848Z",
     "start_time": "2024-01-30T17:27:32.660798Z"
    }
   },
   "outputs": [
    {
     "name": "stdout",
     "output_type": "stream",
     "text": [
      "Weights [[  19.5     -117.355     43.21     -33.5       -9.799     -7.\n",
      "    49.5      -22.03584 -104.29       8.76       5.3    ]]\n",
      "Training Accuracy: 0.9588918677390528\n",
      "Test Accuracy: 0.9583333333333334\n"
     ]
    }
   ],
   "source": [
    "# Load and Train on your dataset and report results\n",
    "import csv\n",
    "\n",
    "with open('red_wine_quality.csv') as file:\n",
    "    reader = csv.reader(file, delimiter=';')\n",
    "    data_list = [row for row in reader]\n",
    "    \n",
    "headers = data_list[0]\n",
    "    \n",
    "data_np = np.array(data_list[1:], dtype=float)\n",
    "\n",
    "X = data_np[:, :-1]\n",
    "y = data_np[:, -1]\n",
    "\n",
    "y = np.where(y < 5, 0, 1)\n",
    "\n",
    "x_train, x_test, y_train, y_test = train_test_split(X, y, train_size=0.7, test_size=0.3)\n",
    "\n",
    "clf = Perceptron(shuffle=True, verbose=0, eta0=1)\n",
    "\n",
    "# train perceptron\n",
    "clf.fit(x_train, y_train)\n",
    "\n",
    "# get training accuracy\n",
    "train_accuracy = clf.score(x_train, y_train)\n",
    "\n",
    "# get testing accuracy\n",
    "test_accuracy = clf.score(x_test, y_test)\n",
    "\n",
    "\n",
    "print(\"Weights\", clf.coef_)\n",
    "print(\"Training Accuracy:\", train_accuracy)\n",
    "print(\"Test Accuracy:\", test_accuracy)\n"
   ]
  },
  {
   "cell_type": "markdown",
   "metadata": {
    "id": "BqSFAXwlk3Ms"
   },
   "source": [
    "*Discuss how the perceptron did on the data set and why you think it performed as such.*\n",
    "\n",
    "I used a red wine data set that included continuous values about certain characteristics of red wine as well as a quality rating between 0 and 10. I wanted the perceptron figure out whether the specific wine was good or bad quality so I split the rating such that < 5 is bad quality and >= 5 is good quality wine. \n",
    "\n",
    "With a 70/30 training/testing split, I was able to get accuracies around 97 at the highest and 86 at the lowest. The perceptron identified volatile acidity and pH values to be the biggest determining factors in high quality wine. A small amount of research confirms this about red wine. However, I do still think there could be problems with using continuous data rather than binary when using a perceptron. "
   ]
  },
  {
   "cell_type": "markdown",
   "metadata": {
    "id": "cTlK-kijk8Mg"
   },
   "source": [
    "## 5. (Optional 15% extra credit) Code up your own perceptron learner \n",
    "\n",
    "Past versions of this class required students to code up their own version of each model and then compare results with scikit-learn.  Actually coding a model leads to better understanding of what is really happening \"under the hood.\"  Though not required for this class, we give a significant extra credit reward for each lab to those who choose to code their own models.  If you choose to do this, your code must be your own, and NOT taken from any other source (including the text).  Once you are done coding we encourage you to look at other versions to see how yours compares.  Below is a scaffold you could use if you want. Requirements for this task:\n",
    "- Your perceptron should support the methods shown in the example scaffold below.\n",
    "- Your output node should output 1 if net is > 0, else 0.\n",
    "- Use Stochastic/On-line training updates: Iterate and update weights after each training instance (i.e. not batch updates)\n",
    "- Implement a stopping criteria: when your model has trained for a number of epochs with no improvement in accuracy, stop training. Note that the weights/accuracy do not usually change monotonically.\n",
    "- Your class can inherit from the relevant scikit-learn learners (e.g. data shuffling, etc.), but don't call any of the super methods to accomplish the core methods in the scaffold.\n",
    "- Run the evaluation data set and the voting data set above with your Perceptron version. Show and discuss your results and how they compare with the scikit-learn version."
   ]
  },
  {
   "cell_type": "code",
   "execution_count": 72,
   "metadata": {
    "id": "5iY77P7gk1Nh",
    "ExecuteTime": {
     "end_time": "2024-01-30T20:02:33.808086Z",
     "start_time": "2024-01-30T20:02:33.759903Z"
    }
   },
   "outputs": [
    {
     "name": "stdout",
     "output_type": "stream",
     "text": [
      "Scikit-learn Accuracy (shuffled): 0.9609544468546638\n",
      "Scikit-learn Weights: [[  0.  -3.  -8.  17.   4.  -2.   5.   6.  -7.   5. -10.  -1.  -1.   0.\n",
      "   -4.   5.]]\n",
      "\n",
      "PerceptronClassifier Accuracy (shuffled): 0.9674620390455532\n",
      "PerceptronClassifier Weights: [-2, -3, -10, 14, 1, -3, 2, 5, -6, 6, -7, 0, 2, -3, -6, 2]\n",
      "\n",
      "Not Shuffled\n",
      "\n",
      "Scikit-learn Accuracy: 0.9674620390455532\n",
      "Scikit-learn Weights: [[ 1.  -1.5 -3.5  9.5  1.5 -1.   0.5  2.5 -4.5  1.  -4.5  0.5  0.   0.\n",
      "  -1.5  3. ]]\n",
      "\n",
      "PerceptronClassifier Accuracy: 0.9609544468546638\n",
      "PerceptronClassifier Weights: [0.0, -2.0, -3.5, 8.0, 1.5, -1.0, 0.0, 2.0, -3.0, 1.5, -5.0, 0.0, -0.5, -0.5, -2.5, 2.0]\n"
     ]
    }
   ],
   "source": [
    "# Your Perceptron Code\n",
    "from sklearn.base import BaseEstimator, ClassifierMixin\n",
    "import random\n",
    "\n",
    "class PerceptronClassifier(BaseEstimator, ClassifierMixin):\n",
    "\n",
    "    def __init__(self, lr=.1, shuffle=True):\n",
    "        self.lr = lr\n",
    "        self.shuffle = shuffle\n",
    "        \n",
    "    @staticmethod\n",
    "    def __shuffle(X, y):\n",
    "        data = list(zip(X, y))\n",
    "        random.shuffle(data)\n",
    "        X_shuffled, y_shuffled = zip(*data)\n",
    "        return X_shuffled, y_shuffled\n",
    "\n",
    "    def fit(self, X, y, initial_weights=None):\n",
    "        if self.shuffle:\n",
    "            X, y = self.__shuffle(X, y)\n",
    "        self.weights = self.initialize_weights(len(X[0])) if not initial_weights else initial_weights\n",
    "        \n",
    "        # calculate weights each row\n",
    "        # the entire for loop is one epoch\n",
    "        epoch = 1\n",
    "        num_correct = 0\n",
    "        previous_accuracy = 0\n",
    "        while True:\n",
    "            # print(f\"Epoch: {epoch}\")\n",
    "            epoch += 1\n",
    "            \n",
    "            # adjust weights for each row in the epoch\n",
    "            for row_index, row in enumerate(X):\n",
    "                output = self.__get_row_prediction(row)\n",
    "                    \n",
    "                # if output is not equal to expected, calculate weight change\n",
    "                expected_output = y[row_index]\n",
    "                if output != expected_output:\n",
    "                    # adjust weights\n",
    "                    self.__update_weights(row, expected_output, output)\n",
    "                else: # for the accuracy\n",
    "                    num_correct += 1\n",
    "                    \n",
    "            \n",
    "            accuracy = num_correct / (len(X) * epoch)\n",
    "            \n",
    "            if previous_accuracy + 0.01 > accuracy:\n",
    "                break\n",
    "            previous_accuracy = accuracy\n",
    "            \n",
    "        return self\n",
    "    \n",
    "    \n",
    "    def __update_weights(self, row, expected_output, output):\n",
    "        for column_index, column in enumerate(row):\n",
    "            self.weights[column_index] += self.lr * (expected_output - output) * row[column_index]\n",
    "    \n",
    "    def __get_net_output(self, row):\n",
    "        net = 0\n",
    "        for column_index, column in enumerate(row):\n",
    "            net += (column * self.weights[column_index])\n",
    "        net += self.weights[-1]\n",
    "        return net\n",
    "    \n",
    "    @staticmethod\n",
    "    def __get_output(net):\n",
    "        return 1 if net > 0 else 0\n",
    "    \n",
    "    def __get_row_prediction(self, row):\n",
    "        net = self.__get_net_output(row)\n",
    "        output = self.__get_output(net)\n",
    "        return output\n",
    "\n",
    "    def predict(self, dataset):\n",
    "        dataset_predictions = []\n",
    "        for row in dataset:\n",
    "            output = self.__get_row_prediction(row)\n",
    "            dataset_predictions.append(output)\n",
    "        return dataset_predictions\n",
    "\n",
    "    def initialize_weights(self, input_size):\n",
    "        return [0 for _ in range(input_size + 1)]\n",
    "\n",
    "    def score(self, X, y):\n",
    "        predictions = self.predict(X)\n",
    "        num_correct = 0\n",
    "        for i, prediction in enumerate(predictions):\n",
    "            if prediction == y[i]:\n",
    "                num_correct += 1\n",
    "            \n",
    "        return num_correct / len(predictions)\n",
    "\n",
    "    def get_weights(self):\n",
    "        return self.weights.copy()[:-1]\n",
    "    \n",
    "    \n",
    "voting_data = arff.loadarff('voting-dataset.arff')\n",
    "voting_df = pd.DataFrame(voting_data[0])\n",
    "voting_label_encoded_df = voting_df.apply(LabelEncoder().fit_transform)\n",
    "\n",
    "data_Set_np = voting_label_encoded_df.to_numpy()\n",
    "\n",
    "X = Data_Set_np[:, :-1]\n",
    "y = Data_Set_np[:, -1]\n",
    "\n",
    "clf = Perceptron(eta0=1, shuffle=True)\n",
    "print(f\"Scikit-learn Accuracy (shuffled): {clf.fit(X, y).score(X, y)}\")\n",
    "print(f\"Scikit-learn Weights: {clf.coef_}\")\n",
    "\n",
    "print()\n",
    "\n",
    "perceptron = PerceptronClassifier(lr=1, shuffle=True)\n",
    "print(f\"PerceptronClassifier Accuracy (shuffled): {perceptron.fit(X, y).score(X, y)}\")\n",
    "print(f\"PerceptronClassifier Weights: {perceptron.get_weights()}\")\n",
    "\n",
    "print()\n",
    "print(\"Not Shuffled\")\n",
    "print()\n",
    "\n",
    "\n",
    "clf2 = Perceptron(eta0=.5, shuffle=False)\n",
    "print(f\"Scikit-learn Accuracy: {clf2.fit(X, y).score(X, y)}\")\n",
    "print(f\"Scikit-learn Weights: {clf2.coef_}\")\n",
    "\n",
    "print()\n",
    "\n",
    "perceptron2 = PerceptronClassifier(lr=.5, shuffle=False)\n",
    "print(f\"PerceptronClassifier Accuracy: {perceptron2.fit(X, y).score(X, y)}\")\n",
    "print(f\"PerceptronClassifier Weights: {perceptron2.get_weights()}\")\n"
   ]
  },
  {
   "cell_type": "markdown",
   "metadata": {
    "id": "CCMC9aHQ-IGL"
   },
   "source": [
    "*Discussion*\n",
    "\n",
    "While the weights produced by my perceptron and the scikit perceptron were always different, the accuracies are usually very similar. In fact, when the data is not shuffled, my perceptron is usually only less accurate by less than 1%. When the data is shuffled, my perceptron can sometimes be more accurate than the scikit perceptron. This is likely due to the way the data is shuffled rather than the actual performance of the perceptrons. While testing with different data, my perceptron always produces a slightly lower accuracy when the data was not shuffled. \n",
    "\n",
    "I also noticed that I could change the accuracy and number of epochs run by adjusting the change in accuracy before the perceptron would stop. If I set the change value to 0.001, I could get a slightly higher accuracy than I would if I set it to 0.01. However, I'm sure setting this value too low could cause the model to be over-trained.\n",
    "\n",
    "While I'm not sure exactly why my perceptron does not exactly match the scikit-learn version, I'm happy with how accurate my perceptron was compared to the scikit version. I assume these differences come down to the differences in calculating the change in the weights or maybe even bias. All I know is that despite the weights consistently being different, the accuracies are comparable. "
   ]
  },
  {
   "cell_type": "code",
   "execution_count": 71,
   "metadata": {
    "ExecuteTime": {
     "end_time": "2024-01-30T19:55:40.329134Z",
     "start_time": "2024-01-30T19:55:40.324028Z"
    }
   },
   "outputs": [],
   "source": [
    "# Optional scaffold for Extra Credit Perceptron code.  IF you use this feel free to change/add any methods you want.\n"
   ]
  }
 ],
 "metadata": {
  "colab": {
   "collapsed_sections": [],
   "provenance": []
  },
  "kernelspec": {
   "display_name": "Python 2.7.16 64-bit",
   "language": "python",
   "name": "python3"
  },
  "language_info": {
   "codemirror_mode": {
    "name": "ipython",
    "version": 3
   },
   "file_extension": ".py",
   "mimetype": "text/x-python",
   "name": "python",
   "nbconvert_exporter": "python",
   "pygments_lexer": "ipython3",
   "version": "3.11.4"
  },
  "vscode": {
   "interpreter": {
    "hash": "767d51c1340bd893661ea55ea3124f6de3c7a262a8b4abca0554b478b1e2ff90"
   }
  }
 },
 "nbformat": 4,
 "nbformat_minor": 0
}
