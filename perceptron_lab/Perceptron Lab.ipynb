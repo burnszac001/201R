{
 "cells": [
  {
   "cell_type": "markdown",
   "source": [
    "# Perceptron Lab"
   ],
   "metadata": {
    "collapsed": false
   }
  },
  {
   "cell_type": "markdown",
   "metadata": {
    "id": "rBIfzcfn3QPO"
   },
   "source": [
    "This is the scaffold notebook for the perceptron lab and each lab will have a similar scaffold.  Make your own copy of this notebook and then you can fill in the tasks.  **You will fill in code boxes and test boxes with discussion for most tasks** and particularly discussion of results, graphs, etc. Good writing, grammar, punctuation, etc. are important and points will be taken off if these things are lacking. \n",
    "\n",
    "In most cases just reporting results without discussion will not receive full credit. Thus, your discussion should also include sentences like the following: This is because…  Note that the …  I was surprised to observe… I am not sure why …, but my hypothesis is that …\n",
    "\n",
    "Start by looking over the scikit-learn [user guide](https://scikit-learn.org/stable/user_guide.html) and carefully reading over the [perceptron documentation](https://scikit-learn.org/stable/modules/generated/sklearn.linear_model.Perceptron.html)."
   ]
  },
  {
   "cell_type": "code",
   "execution_count": 45,
   "metadata": {
    "id": "6ZbYjZZZ_yLV",
    "ExecuteTime": {
     "end_time": "2024-01-25T19:16:20.840097Z",
     "start_time": "2024-01-25T19:16:20.837958Z"
    }
   },
   "outputs": [],
   "source": [
    "# imports\n",
    "import numpy as np\n",
    "from scipy.io import arff\n",
    "import pandas as pd\n",
    "import matplotlib.pyplot as plt\n",
    "\n",
    "def load_data(filename: str, max_itr: int, plot: bool = False) -> None:\n",
    "    clf = Perceptron(shuffle=False, verbose=1, eta0=.1, max_iter=max_itr)\n",
    "    Data_Set = arff.loadarff(filename)\n",
    "    Data_Set_df = pd.DataFrame(Data_Set[0])\n",
    "    Data_Set_np = Data_Set_df.to_numpy()\n",
    "    Data_Set_np = Data_Set_np.astype(float)\n",
    "    X = Data_Set_np[:, :-1]\n",
    "    y = Data_Set_np[:, -1]\n",
    "    clf.fit(X, y)\n",
    "    # Print weights, intercept, and accuracy\n",
    "    print(\"Weights:\", clf.coef_)\n",
    "    print(\"Intercept:\", clf.intercept_)\n",
    "    print(\"Accuracy:\", clf.score(X, y))\n",
    "\n",
    "    # Plotting if plot is True\n",
    "    if plot:\n",
    "        x1_values = X[:, 0]\n",
    "        x2_values = X[:, 1]\n",
    "\n",
    "        # Create a new figure for each plot\n",
    "        plt.figure()\n",
    "\n",
    "        # Plotting the data points\n",
    "        plt.scatter(x1_values, x2_values, c=y, cmap=plt.cm.Paired, marker='o')\n",
    "\n",
    "        # Plotting the decision boundary line\n",
    "        if len(clf.coef_[0]) == 2:  # Check if there are two features\n",
    "            x_line = np.linspace(np.min(x1_values), np.max(x1_values), 100)\n",
    "            y_line = (-clf.coef_[0, 0] / clf.coef_[0, 1]) * x_line - clf.intercept_[0] / clf.coef_[0, 1]\n",
    "\n",
    "            plt.plot(x_line, y_line, 'k-', label='Decision Boundary')\n",
    "\n",
    "        # Adding labels and legend\n",
    "        plt.xlabel('X1')\n",
    "        plt.ylabel('X2')\n",
    "        plt.title('Perceptron Decision Boundary')\n",
    "        plt.legend()\n",
    "\n",
    "        # Show the plot\n",
    "        plt.show()"
   ]
  },
  {
   "cell_type": "markdown",
   "metadata": {
    "id": "KibCIXIThpbE"
   },
   "source": [
    "## 1. Debug and Evaluation\n",
    "\n",
    "For most labs we will give you some data and expected results so that you can verify that you are doing things right and getting appropriate results.  We will then have you run on some other data with the exact same hyperparameters so we can see if your results are correct. \n",
    "\n",
    "### 1.1 Debug (5%)\n",
    "Download this [data set](https://raw.githubusercontent.com/cs472ta/CS472/master/datasets/linsep2nonorigin.arff) into your local directory and name it debug.arff.  To download rather than view, right-click the link and save as.  To allow consistent results run the Perceptron using the following hyperparameters:\n",
    "- Learning rate = .1\n",
    "- Do NOT shuffle the data after every epoch like you would normally do\n",
    "- Learn for a maximum of 10 epochs\n",
    "- Start all weights at 0 (which is the default for this scikit-learn implementation)  \n",
    "\n",
    "Your results should be:\n",
    "Accuracy = [.875]\\\n",
    "Final Weights = [[-0.23  0.18]]\\\n",
    "[-0.1] - This last weight is the bias weight, which they call the intercept.\n",
    "\n",
    "To help you with this first task, following is one detailed variation that would do this for you. You may use your own variation.  Note that commonly used variable names in the community are clf (classifier), X (array of input features), y (vector of output labels)."
   ]
  },
  {
   "cell_type": "code",
   "execution_count": 21,
   "metadata": {
    "id": "KgAyy82gixIF",
    "ExecuteTime": {
     "end_time": "2024-01-25T18:10:40.470725Z",
     "start_time": "2024-01-25T18:10:40.464687Z"
    }
   },
   "outputs": [
    {
     "name": "stdout",
     "output_type": "stream",
     "text": [
      "-- Epoch 1\n",
      "Norm: 0.04, NNZs: 2, Bias: -0.100000, T: 8, Avg. loss: 0.013500\n",
      "Total training time: 0.00 seconds.\n",
      "-- Epoch 2\n",
      "Norm: 0.07, NNZs: 2, Bias: -0.100000, T: 16, Avg. loss: 0.011875\n",
      "Total training time: 0.00 seconds.\n",
      "-- Epoch 3\n",
      "Norm: 0.11, NNZs: 2, Bias: -0.100000, T: 24, Avg. loss: 0.010250\n",
      "Total training time: 0.00 seconds.\n",
      "-- Epoch 4\n",
      "Norm: 0.14, NNZs: 2, Bias: -0.100000, T: 32, Avg. loss: 0.008625\n",
      "Total training time: 0.00 seconds.\n",
      "-- Epoch 5\n",
      "Norm: 0.18, NNZs: 2, Bias: -0.100000, T: 40, Avg. loss: 0.007000\n",
      "Total training time: 0.00 seconds.\n",
      "-- Epoch 6\n",
      "Norm: 0.21, NNZs: 2, Bias: -0.100000, T: 48, Avg. loss: 0.005375\n",
      "Total training time: 0.00 seconds.\n",
      "-- Epoch 7\n",
      "Norm: 0.23, NNZs: 2, Bias: -0.100000, T: 56, Avg. loss: 0.008250\n",
      "Total training time: 0.00 seconds.\n",
      "-- Epoch 8\n",
      "Norm: 0.25, NNZs: 2, Bias: -0.100000, T: 64, Avg. loss: 0.007625\n",
      "Total training time: 0.00 seconds.\n",
      "-- Epoch 9\n",
      "Norm: 0.27, NNZs: 2, Bias: -0.100000, T: 72, Avg. loss: 0.007000\n",
      "Total training time: 0.00 seconds.\n",
      "-- Epoch 10\n",
      "Norm: 0.29, NNZs: 2, Bias: -0.100000, T: 80, Avg. loss: 0.006375\n",
      "Total training time: 0.00 seconds.\n",
      "[[-0.23  0.18]]\n",
      "[-0.1]\n",
      "0.875\n"
     ]
    },
    {
     "name": "stderr",
     "output_type": "stream",
     "text": [
      "/Users/zacharyburns/Documents/repos/python/201R/venv/lib/python3.12/site-packages/sklearn/linear_model/_stochastic_gradient.py:723: ConvergenceWarning: Maximum number of iteration reached before convergence. Consider increasing max_iter to improve the fit.\n",
      "  warnings.warn(\n"
     ]
    }
   ],
   "source": [
    "from sklearn.linear_model import Perceptron\n",
    "\n",
    "load_data('debug.arff', 10)"
   ]
  },
  {
   "cell_type": "markdown",
   "metadata": {},
   "source": [
    "Notes:\n",
    "* If you increase (or just remove) max_iter your perceptron will converge to 100% in one more epoch.  Try it!\n",
    "* verbose (integer) specifies how much info you get after each epoch.  It does not change results.  Try it with 0.\n",
    "    * Norm is a measure of the total weight magnitudes in the current model.\n",
    "    * NNZs is the number of non-zero weights there currently are (not including the bias).\n",
    "    * clf.intercept_ is the value of the bias weight, NOT the actual y-intercept of the decision surface, though it will affect that.\n",
    "    * T is the total number of weight updates so far.  In this case all the weights were updated each epoch.\n",
    "    * Avg. loss is another measure of error.  More on that later.\n",
    "    * The activation function outputs 1 if net > 0, else 0."
   ]
  },
  {
   "cell_type": "markdown",
   "metadata": {
    "id": "kY3VNB1ui03N"
   },
   "source": [
    "### 1.2 (5%) Evaluation\n",
    "\n",
    "Now run your model  on the [evaluation dataset](https://raw.githubusercontent.com/cs472ta/CS472/master/datasets/data_banknote_authentication.arff) and report the final accuracy, weights, and bias. Use the exact same hyperparameters as the debug dataset. The most common reason for results not matching ours is not exactly using the same hyperparameters (e.g. initial weights, training exactly 10 epochs, no shuffling, etc.) Hint: Throughout these labs for the numerous cases where you are doing the same task, but with different data (e.g. debug, eval), you could create a function where you just pass the data set name, so as not to recreate the code multiple times."
   ]
  },
  {
   "cell_type": "code",
   "execution_count": 22,
   "metadata": {
    "id": "2yAxA78QjDh2",
    "ExecuteTime": {
     "end_time": "2024-01-25T18:11:30.622607Z",
     "start_time": "2024-01-25T18:11:30.614434Z"
    }
   },
   "outputs": [
    {
     "name": "stdout",
     "output_type": "stream",
     "text": [
      "-- Epoch 1\n",
      "Norm: 1.42, NNZs: 4, Bias: 2.100000, T: 1372, Avg. loss: 0.023615\n",
      "Total training time: 0.00 seconds.\n",
      "-- Epoch 2\n",
      "Norm: 2.90, NNZs: 4, Bias: 2.600000, T: 2744, Avg. loss: 0.022359\n",
      "Total training time: 0.00 seconds.\n",
      "-- Epoch 3\n",
      "Norm: 3.62, NNZs: 4, Bias: 3.500000, T: 4116, Avg. loss: 0.028435\n",
      "Total training time: 0.00 seconds.\n",
      "-- Epoch 4\n",
      "Norm: 4.36, NNZs: 4, Bias: 3.700000, T: 5488, Avg. loss: 0.013195\n",
      "Total training time: 0.00 seconds.\n",
      "-- Epoch 5\n",
      "Norm: 4.51, NNZs: 4, Bias: 4.300000, T: 6860, Avg. loss: 0.015216\n",
      "Total training time: 0.00 seconds.\n",
      "-- Epoch 6\n",
      "Norm: 4.70, NNZs: 4, Bias: 4.700000, T: 8232, Avg. loss: 0.026061\n",
      "Total training time: 0.00 seconds.\n",
      "-- Epoch 7\n",
      "Norm: 5.40, NNZs: 4, Bias: 4.600000, T: 9604, Avg. loss: 0.018060\n",
      "Total training time: 0.00 seconds.\n",
      "-- Epoch 8\n",
      "Norm: 5.83, NNZs: 4, Bias: 4.800000, T: 10976, Avg. loss: 0.018378\n",
      "Total training time: 0.00 seconds.\n",
      "-- Epoch 9\n",
      "Norm: 5.88, NNZs: 4, Bias: 5.200000, T: 12348, Avg. loss: 0.015085\n",
      "Total training time: 0.00 seconds.\n",
      "Convergence after 9 epochs took 0.00 seconds\n",
      "[[-4.28857497 -2.390381   -3.0160324  -1.1686672 ]]\n",
      "[5.2]\n",
      "0.9766763848396501\n"
     ]
    }
   ],
   "source": [
    "# Load evaluation data\n",
    "# Train on the evaluation data\n",
    "# print your accuracy and weights. Do not enter these values by hand.\n",
    "\n",
    "load_data('data_banknote_authentication.arff', 10)\n"
   ]
  },
  {
   "cell_type": "markdown",
   "metadata": {
    "id": "U-4J5VcS9umq"
   },
   "source": [
    "*Discussion - Open this box and type in your discussion.*  Note that after each exercise you will have a chance to discuss your effort and results.\n",
    "\n",
    "Final Accuracy = 0.9766763848396501\n",
    "Final Weights = [-4.28857497 -2.390381   -3.0160324  -1.1686672 ]\n",
    "Final Bias Weight = [5.2]\n",
    "\n",
    "I noticed while looking at the training data that the target switches from being 0 to 1 at a certain point. There must be something different about the data to make it so that a change in target is necessary. A quick glance at the data showed that for inputs where the target was 0, the first input was more likely to be positive. On the other hand, inputs where the target was 1, the first input was more likely to be negative. My theory is that the first input of each vector carries the most weight in the decision. That could be why in the final weights, the first weight as the greatest absolute value."
   ]
  },
  {
   "cell_type": "markdown",
   "metadata": {
    "id": "9vWiTdlbR2Xh"
   },
   "source": [
    "## 2. Classifying on linearly separable and non-linearly separable data\n",
    "\n",
    "### 2.1 (5%) Create 2 datasets\n",
    "\n",
    "- Both with 8 instances using 2 real valued inputs with 4 instances from each class. \n",
    "- One data set should be linearly separable and the other not.\n",
    "- Show or print your datasets"
   ]
  },
  {
   "cell_type": "code",
   "execution_count": 4,
   "metadata": {
    "id": "4SSoasDQSKXb"
   },
   "outputs": [],
   "source": [
    "# Create and show the 2 datasets. \n",
    "# You could do it here in Python or create arff files in your local folder with a text editor.  Either way show your dataset.\n",
    "\n",
    "# Linearly Separable Dataset\n",
    "# -0.4, -0.4, 0\n",
    "# -0.2, -0.2, 0\n",
    "# 0.2, 0.2, 1\n",
    "# 0.4, 0.4, 1\n",
    "# -0.4, 0.4, 1\n",
    "# -0.2, 0.2, 1\n",
    "# 0.2, -0.2, 0\n",
    "# 0.4, -0.4, 0\n",
    "\n",
    "# Non-linearly Separable Dataset\n",
    "# 0, 0, 0\n",
    "# 0, 1, 1\n",
    "# 1, 0, 1\n",
    "# 1, 1, 0\n",
    "# 0.2, 0.2, 0\n",
    "# 0.8, 0.8, 0\n",
    "# 0.2, 0.8, 1\n",
    "# 0.8, 0.2, 1"
   ]
  },
  {
   "cell_type": "markdown",
   "metadata": {
    "id": "SIRG42TgSR4x"
   },
   "source": [
    "### 2.2 (5%) Train on both sets using the scikit-learn perceptron model\n",
    "- Train on each and print the results. Train until convergence (i.e. use the default max_iter by simply not specifying it).\n",
    "- You may choose your other hyperparameters."
   ]
  },
  {
   "cell_type": "code",
   "execution_count": 43,
   "metadata": {
    "id": "KBGUn43ASiXW",
    "ExecuteTime": {
     "end_time": "2024-01-25T19:05:01.855790Z",
     "start_time": "2024-01-25T19:05:01.840692Z"
    }
   },
   "outputs": [
    {
     "name": "stdout",
     "output_type": "stream",
     "text": [
      "Linearly Separable\n",
      "-- Epoch 1\n",
      "Norm: 0.12, NNZs: 1, Bias: 0.000000, T: 8, Avg. loss: 0.021000\n",
      "Total training time: 0.00 seconds.\n",
      "-- Epoch 2\n",
      "Norm: 0.12, NNZs: 1, Bias: 0.000000, T: 16, Avg. loss: 0.000000\n",
      "Total training time: 0.00 seconds.\n",
      "-- Epoch 3\n",
      "Norm: 0.12, NNZs: 1, Bias: 0.000000, T: 24, Avg. loss: 0.000000\n",
      "Total training time: 0.00 seconds.\n",
      "-- Epoch 4\n",
      "Norm: 0.12, NNZs: 1, Bias: 0.000000, T: 32, Avg. loss: 0.000000\n",
      "Total training time: 0.00 seconds.\n",
      "-- Epoch 5\n",
      "Norm: 0.12, NNZs: 1, Bias: 0.000000, T: 40, Avg. loss: 0.000000\n",
      "Total training time: 0.00 seconds.\n",
      "-- Epoch 6\n",
      "Norm: 0.12, NNZs: 1, Bias: 0.000000, T: 48, Avg. loss: 0.000000\n",
      "Total training time: 0.00 seconds.\n",
      "-- Epoch 7\n",
      "Norm: 0.12, NNZs: 1, Bias: 0.000000, T: 56, Avg. loss: 0.000000\n",
      "Total training time: 0.00 seconds.\n",
      "Convergence after 7 epochs took 0.00 seconds\n",
      "Weights: [[0.   0.12]]\n",
      "Intercept: [0.]\n",
      "Accuracy: 1.0\n",
      "\n",
      "Non-Linearly Separable\n",
      "-- Epoch 1\n",
      "Norm: 0.06, NNZs: 1, Bias: 0.000000, T: 8, Avg. loss: 0.065000\n",
      "Total training time: 0.00 seconds.\n",
      "-- Epoch 2\n",
      "Norm: 0.12, NNZs: 1, Bias: 0.000000, T: 16, Avg. loss: 0.060500\n",
      "Total training time: 0.00 seconds.\n",
      "-- Epoch 3\n",
      "Norm: 0.10, NNZs: 2, Bias: 0.000000, T: 24, Avg. loss: 0.050500\n",
      "Total training time: 0.00 seconds.\n",
      "-- Epoch 4\n",
      "Norm: 0.09, NNZs: 2, Bias: 0.000000, T: 32, Avg. loss: 0.049500\n",
      "Total training time: 0.00 seconds.\n",
      "-- Epoch 5\n",
      "Norm: 0.16, NNZs: 2, Bias: 0.000000, T: 40, Avg. loss: 0.036000\n",
      "Total training time: 0.00 seconds.\n",
      "-- Epoch 6\n",
      "Norm: 0.14, NNZs: 2, Bias: 0.000000, T: 48, Avg. loss: 0.052500\n",
      "Total training time: 0.00 seconds.\n",
      "-- Epoch 7\n",
      "Norm: 0.12, NNZs: 2, Bias: 0.000000, T: 56, Avg. loss: 0.051500\n",
      "Total training time: 0.00 seconds.\n",
      "-- Epoch 8\n",
      "Norm: 0.10, NNZs: 2, Bias: 0.000000, T: 64, Avg. loss: 0.050500\n",
      "Total training time: 0.00 seconds.\n",
      "-- Epoch 9\n",
      "Norm: 0.09, NNZs: 2, Bias: 0.000000, T: 72, Avg. loss: 0.049500\n",
      "Total training time: 0.00 seconds.\n",
      "-- Epoch 10\n",
      "Norm: 0.16, NNZs: 2, Bias: 0.000000, T: 80, Avg. loss: 0.036000\n",
      "Total training time: 0.00 seconds.\n",
      "Convergence after 10 epochs took 0.00 seconds\n",
      "Weights: [[-0.04  0.16]]\n",
      "Intercept: [0.]\n",
      "Accuracy: 0.5\n"
     ]
    }
   ],
   "source": [
    "# Train and print results with both datasets\n",
    "print(\"Linearly Separable\")\n",
    "load_data('linearly_separable.arff', 1000) # 1000 is the default max_iter as specified in the perceptron documentation\n",
    "print(\"\\nNon-Linearly Separable\")\n",
    "load_data('non_linearly_separable.arff', 1000)"
   ]
  },
  {
   "cell_type": "markdown",
   "metadata": {
    "id": "890A39KX9zLC"
   },
   "source": [
    "*Discussion*\n",
    "\n",
    "Linearly Separable Data: Anything where the y value is > 0 yields a 1. Anything where the y value < 0 yields a 0.\n",
    "\n",
    "Non-Linearly Separable Data: Is modeled after the exclusive or function. The closer x and y are to equivalent, the greater the likelihood that the expected output is a 0. This creates a line down the center of the data that separates one-half of the data in one class from other data in its class.\n",
    "\n",
    "After making the data, running the learning, and then graphing and viewing the results, I noticed that perceptron found a line such that y = 0x for linearly separable data. This is to be expected since the rule for defining classes was determined based on the sign of the y input.\n",
    "\n",
    "As for the non-linearly separable data, perceptron got roughly 50% accuracy; as good a guessing. This is also to be expected since the data was not linearly separable. However, I did find it interesting that it drew the line such that y = 0.25x despite there being many different locations that it could draw the line and yield the same results. My hypothesis was that this was because of the order of the data and my ordering caused this particular line. I turned shuffling on and sure enough, the graph produced a different line. From my testing, I only got one other line though."
   ]
  },
  {
   "cell_type": "markdown",
   "metadata": {
    "id": "v19fpixqTe-7"
   },
   "source": [
    "### 2.3 (10%) Graph the datasets and their corresponding decision line\n",
    " \n",
    " - Graph each dataset\n",
    " - Use your trained perceptrons above to determine each dataset's decision line\n",
    "    - We discssed how to find the slope and intercept in class and the equation is in the Percptron slides\n",
    " - For all graphs always label the axes!\n",
    " - Following are examples of what graphs could look like\n",
    " \n",
    "![Linearly Separable Data](https://raw.githubusercontent.com/rmorain/CS472-1/master/images/perceptron/linearly_separable.png)\n",
    "\n",
    "![Not Linearly Separable](https://raw.githubusercontent.com/rmorain/CS472-1/master/images/perceptron/not_linearly_separable.png)"
   ]
  },
  {
   "cell_type": "code",
   "execution_count": 47,
   "metadata": {
    "colab": {
     "base_uri": "https://localhost:8080/",
     "height": 312
    },
    "id": "8l64tZUqCEwy",
    "outputId": "d111d17a-4813-4e52-c0df-3790ebe6f7b6",
    "ExecuteTime": {
     "end_time": "2024-01-25T19:17:11.259854Z",
     "start_time": "2024-01-25T19:17:11.130227Z"
    }
   },
   "outputs": [
    {
     "data": {
      "text/plain": "<Figure size 640x480 with 1 Axes>",
      "image/png": "[encoded data removed]"
     },
     "metadata": {},
     "output_type": "display_data"
    }
   ],
   "source": [
    "# Sample Graph code, You can use any graphing approach you want including this one.\n",
    "# We encourage you to use matplotlib.\n",
    "\n",
    "\n",
    "# The data in this example is made up.  You will use your real data.\n",
    "data = np.array([[-.9,-.9],[-.6,.6],[-.3,.3],[-.1,.1],[.1,.456],[.3,-.324],[.6,.778],[.9,-.76]])\n",
    "labels = np.array([0,0,0,0,1,1,1,1])\n",
    "\n",
    "# Create a scatter plot of data\n",
    "plt.xlim(-1,1)\n",
    "plt.ylim(-1,1)\n",
    "scatter = plt.scatter(data[:,0], data[:,1], c = labels, s=200, cmap='seismic')\n",
    "legend = plt.legend(*scatter.legend_elements(num=1), title=\"Class\", loc='upper right') # Legend\n",
    "\n",
    "# Plot the learned separator.  We just made up the slope and intercept for this example. You need to calculate \n",
    "# the correct slope and intercept using your learned weights and bias.\n",
    "xlist = np.linspace(-1.0, 1.0, 100) # create 100 evenly spaced points between -1 and 1 for the x axis\n",
    "ylist = np.linspace(-1.0, 1.0, 100) # create 100 evenly spaced points between -1 and 1 for the y axis\n",
    "slope = -2  # made up\n",
    "intercept = 0.1 # made up\n",
    "eq = slope*xlist + intercept\n",
    "plt.plot(xlist,  eq, '-k', )\n",
    "plt.title('Linearly Separable Data Example')\n",
    "plt.xlabel('x')\n",
    "plt.ylabel('y')\n",
    "plt.grid() # add grid lines\n",
    "plt.show() # show the plot"
   ]
  },
  {
   "cell_type": "code",
   "execution_count": 7,
   "metadata": {
    "id": "ZCPFUAGTS2sX"
   },
   "outputs": [],
   "source": [
    "# Graph datasets and print(\"Linearly Separable\")\n",
    "load_data('linearly_separable.arff', 1000, plot=True) \n",
    "\n",
    "print(\"\\nNon-Linearly Separable\")\n",
    "load_data('non_linearly_separable.arff', 1000, plot=True)"
   ]
  },
  {
   "cell_type": "markdown",
   "metadata": {
    "id": "M7dyHR0c92zd"
   },
   "source": [
    "*Discussion* \n",
    "\n",
    "I discussed the graphs in my previous discussion."
   ]
  },
  {
   "cell_type": "markdown",
   "metadata": {
    "id": "_N5RXV8AzdRF"
   },
   "source": [
    "### 2.4 (5%) Discuss why perceptrons in general will not get perfect accuracy on non-linearly separable data"
   ]
  },
  {
   "cell_type": "markdown",
   "source": [
    "*Discussion*\n",
    "\n",
    "I feel like it's pretty simple. If the data cannot be separated into classes with a linear function, then the perceptron (something that creates a linear function to separate data into classes) won't be able to do that. It will create a line as best it can, but ultimately, if a line cannot be drawn to perfectly separate the classes, perceptrons will not be perfectly accurate when attempting to separate the classes."
   ],
   "metadata": {
    "collapsed": false
   }
  },
  {
   "cell_type": "markdown",
   "metadata": {
    "id": "0ySvhd1lUGSe"
   },
   "source": [
    "## 3. Use the perceptron to learn this version of the [voting data set](https://raw.githubusercontent.com/cs472ta/CS472/master/datasets/voting-dataset.arff)\n",
    "\n",
    "This particular task is an edited version of the standard voting set, where we have replaced all the “don’t know” values with the most common value for the particular attribute. Look at the [tutorial](https://github.com/cs472ta/CS472/blob/master/Tutorial.ipynb) from the Labs Content page to see examples of prepping the voting data set for sklearn.\n",
    "\n",
    "### 3.1 (10%) Average final training and test set accuracy over multiple trials\n",
    "\n",
    "- Learn the voting data five times with different random 70/30 Training/Test splits each time\n",
    "- Use a learning rate of 1.  The other hyperparameters are up to you.\n",
    "- Report the 5 trials and the average training and test accuracy and number of epochs to converge across the 5 trials in a table \n",
    "    - Below is an example of what a 2 trial table might look like\n",
    "\n",
    "| Trial | Training Accuracy | Test accuracy | Number of epochs |\n",
    "| --- | --- | --- | --- |\n",
    "| 1 | .950 | .550 | 4 |\n",
    "| 2 | .850 | .450 | 6 |\n",
    "| Average | .900 | .500 | 5 | \n",
    "\n",
    "*- As a rough sanity check, typical Perceptron test accuracies for the voting data set are 90%-98%.*\n"
   ]
  },
  {
   "cell_type": "code",
   "execution_count": 57,
   "metadata": {
    "id": "Romyl4G8Trki",
    "ExecuteTime": {
     "end_time": "2024-01-25T20:31:50.125417Z",
     "start_time": "2024-01-25T20:31:50.091794Z"
    }
   },
   "outputs": [
    {
     "name": "stdout",
     "output_type": "stream",
     "text": [
      "  Trial    Training Accuracy    Testing Accuracy\n",
      "-------  -------------------  ------------------\n",
      "      1             0.934783            0.899729\n",
      "      2             0.994565            0.931408\n",
      "      3             0.931159            0.951351\n",
      "      4             0.9375              0.935484\n",
      "      5             0.966184            0.914894\n"
     ]
    }
   ],
   "source": [
    "# Run the perceptron 5 times on the voting data set with different splits and record the results.\n",
    "# Hint: look up scikit-learn train_test_split\n",
    "from sklearn.model_selection import train_test_split\n",
    "from sklearn.preprocessing import LabelEncoder\n",
    "\n",
    "# Create the table using the tool of your choice\n",
    "voting_data = arff.loadarff('voting-dataset.arff')\n",
    "voting_df = pd.DataFrame(voting_data[0])\n",
    "voting_label_encoded_df = voting_df.apply(LabelEncoder().fit_transform)\n",
    "\n",
    "Data_Set_np = voting_label_encoded_df.to_numpy()\n",
    "\n",
    "X = Data_Set_np[:, :-1]\n",
    "y = Data_Set_np[:, -1]\n",
    "\n",
    "# create a list of 5 different testing percentages\n",
    "test_sizes = [0.2, 0.4, 0.6, 0.8, 0.9]\n",
    "\n",
    "\n",
    "\n",
    "def train_voting_data(x, y, percentage: float):\n",
    "    # separate data into training and testing splits\n",
    "    x_train, x_test, y_train, y_test = train_test_split(x, y, train_size=percentage, test_size=(1-percentage))\n",
    "    \n",
    "    # create perceptron\n",
    "    clf = Perceptron(shuffle=False, verbose=0, eta0=.1)\n",
    "    \n",
    "    # train perceptron\n",
    "    clf.fit(x_train, y_train)\n",
    "    \n",
    "    # get training accuracy\n",
    "    train_accuracy = clf.score(x_train, y_train)\n",
    "    \n",
    "    # get testing accuracy\n",
    "    test_accuracy = clf.score(x_test, y_test)\n",
    "    \n",
    "    return train_accuracy, test_accuracy\n",
    "    \n",
    "    \n",
    "headers = [\"Trial\", \"Training Accuracy\", \"Testing Accuracy\", \"Number of Epochs\"]\n",
    "table = []\n",
    "for index, percentage in enumerate(test_sizes):\n",
    "    training_accuracy, testing_accuracy = train_voting_data(X, y, percentage)\n",
    "    table.append([index + 1, training_accuracy, testing_accuracy])\n",
    "    \n",
    "from tabulate import tabulate\n",
    "print(tabulate(table, headers))\n",
    "    \n",
    "\n"
   ]
  },
  {
   "cell_type": "markdown",
   "metadata": {
    "id": "cm4rbWkzVeoR"
   },
   "source": [
    "### 3.2 (10%) Interpreting the Model\n",
    "- Learn with the perceptron once on the full voting data set\n",
    "- Look at the learned weights and bias and do your best to explain what the model has learned and how the individual input features affect the result. \n",
    "- Which specific features are most critical for the voting task, and which are least critical? "
   ]
  },
  {
   "cell_type": "code",
   "execution_count": null,
   "metadata": {},
   "outputs": [],
   "source": [
    "#Learn once on the full voting data set.  If you Look at our tutorial at the beginning "
   ]
  },
  {
   "cell_type": "markdown",
   "metadata": {},
   "source": [
    "Discuss how the different features effect prediction"
   ]
  },
  {
   "cell_type": "markdown",
   "metadata": {
    "id": "NyUmJ4yWVsQ7"
   },
   "source": [
    "### 3.3 (15%) Misclassification rate vs epochs \n",
    "\n",
    "Learn with the perceptron once on the full voting data set and graph the misclassification rate (number_misclassified  /  number_of_total_data_points) at each epoch until convergence (0th – final epoch).  Hints:\n",
    "- For the 0th epoch (i.e. initial weights), assume the initial misclassification rate is 66% and let that be the first point on your graph. Since there are 3 output classes, random guessing would only get it right about 1/3 of the time. Missclassifcation rate is 1 - accuracy.\n",
    "- Doing clf.fit with max_iter = 1, and warm_start=True will let you loop through epochs one at a time, allowing you to look at accuracy, etc. after each epoch.  But how do you know how many epochs to run until convergence?  One way is to just to first run it until convergence with random_state = c to see how many epochs it took (n_iter_).  Then run it again one epoch at a time n_iter_ times using the same random_state constant c (so that you get the exact same conditions).\n",
    "- Below is a rough example of what this type of graph might look like (though this graph is for avg rate across multiple trials)\n",
    "\n",
    "![Average Misclassification Rate](https://raw.githubusercontent.com/rmorain/CS472-1/master/images/perceptron/avg_misclassification_rate_vs_epochs.png)"
   ]
  },
  {
   "cell_type": "code",
   "execution_count": 14,
   "metadata": {
    "id": "2_ZRPWWVVeFM"
   },
   "outputs": [],
   "source": [
    "# Learn once on the full voting data set, while gathering info after every epoch\n",
    "# Then Graph it here.  Here is some sample graph code, but you can do it your own way, including using a bar graph, etc.\n",
    "    \n",
    "def plot_misclassification(misclassification_rate):\n",
    "    \"\"\"\n",
    "        Plots the misclassification rate\n",
    "    Args:\n",
    "        misclassification_rate (array-like): A 1D array or list of missclassifcation rate at every epoch\n",
    "    \"\"\"\n",
    "    plt.plot(np.arange(len(misclassification_rate)), misclassification_rate)\n",
    "    plt.title(\"Misclassification Rate vs. Epoch\")\n",
    "    plt.xlabel(\"Epoch\")\n",
    "    plt.ylabel(\"Misclassification Rate\")\n",
    "    plt.show()"
   ]
  },
  {
   "cell_type": "markdown",
   "metadata": {
    "id": "PgqUrgh--GeU"
   },
   "source": [
    "*Show table and discuss*"
   ]
  },
  {
   "cell_type": "markdown",
   "metadata": {},
   "source": [
    "### 3.4 (15%) Hyperparameters\n",
    "Read over all the Hyperparameters and their defaults in the scikit [perceptron documentation](https://scikit-learn.org/stable/modules/generated/sklearn.linear_model.Perceptron.html). With the voting data set, experiment briefly with EACH of the following 6 hyperparameters and discuss your findings.\n",
    "- shuffle\n",
    "- eta0 - learning rate\n",
    "- verbose\n",
    "- fit_intercept - whether to use a bias weight or not\n",
    "- random state\n",
    "- warm start"
   ]
  },
  {
   "cell_type": "code",
   "execution_count": null,
   "metadata": {},
   "outputs": [],
   "source": [
    "# Run the model with different hyperparameters"
   ]
  },
  {
   "cell_type": "markdown",
   "metadata": {},
   "source": [
    "Discussion"
   ]
  },
  {
   "cell_type": "markdown",
   "metadata": {
    "id": "mxssT08TzdRH"
   },
   "source": [
    "## 4 (15%) Use the perceptron to learn one other data set of your choice.  \n",
    "- The UC Irvine Data Repository is one great source, but you may get your data set from wherever you like, though it should be a real world task.\n",
    "- Report your results"
   ]
  },
  {
   "cell_type": "code",
   "execution_count": 11,
   "metadata": {
    "id": "hqPZLMf1zdRH"
   },
   "outputs": [],
   "source": [
    "# Load and Train on your dataset and report results"
   ]
  },
  {
   "cell_type": "markdown",
   "metadata": {
    "id": "BqSFAXwlk3Ms"
   },
   "source": [
    "*Discuss how the perceptron did on the data set and why you think it performed as such.*"
   ]
  },
  {
   "cell_type": "markdown",
   "metadata": {
    "id": "cTlK-kijk8Mg"
   },
   "source": [
    "## 5. (Optional 15% extra credit) Code up your own perceptron learner \n",
    "\n",
    "Past versions of this class required students to code up their own version of each model and then compare results with scikit-learn.  Actually coding a model leads to better understanding of what is really happening \"under the hood.\"  Though not required for this class, we give a significant extra credit reward for each lab to those who choose to code their own models.  If you choose to do this, your code must be your own, and NOT taken from any other source (including the text).  Once you are done coding we encourage you to look at other versions to see how yours compares.  Below is a scaffold you could use if you want. Requirements for this task:\n",
    "- Your perceptron should support the methods shown in the example scaffold below.\n",
    "- Your output node should output 1 if net is > 0, else 0.\n",
    "- Use Stochastic/On-line training updates: Iterate and update weights after each training instance (i.e. not batch updates)\n",
    "- Implement a stopping criteria: when your model has trained for a number of epochs with no improvement in accuracy, stop training. Note that the weights/accuracy do not usually change monotonically.\n",
    "- Your class can inherit from the relevant scikit-learn learners (e.g. data shuffling, etc.), but don't call any of the super methods to accomplish the core methods in the scaffold.\n",
    "- Run the evaluation data set and the voting data set above with your Perceptron version. Show and discuss your results and how they compare with the scikit-learn version."
   ]
  },
  {
   "cell_type": "code",
   "execution_count": 12,
   "metadata": {
    "id": "5iY77P7gk1Nh"
   },
   "outputs": [],
   "source": [
    "# Your Perceptron Code"
   ]
  },
  {
   "cell_type": "markdown",
   "metadata": {
    "id": "CCMC9aHQ-IGL"
   },
   "source": [
    "*Discussion*"
   ]
  },
  {
   "cell_type": "code",
   "execution_count": null,
   "metadata": {},
   "outputs": [],
   "source": [
    "# Optional scaffold for Extra Credit Perceptron code.  IF you use this feel free to change/add any methods you want.\n",
    "\n",
    "from sklearn.base import BaseEstimator, ClassifierMixin\n",
    "class PerceptronClassifier(BaseEstimator,ClassifierMixin):\n",
    "\n",
    "    def __init__(self, lr=.1, shuffle=True):\n",
    "        \"\"\" \n",
    "            Initialize class with chosen hyperparameters.\n",
    "        Args:\n",
    "            lr (float): A learning rate / step size.\n",
    "            shuffle: Whether to shuffle the training data each epoch. DO NOT \n",
    "            SHUFFLE for evaluation / debug datasets.\n",
    "        \"\"\"\n",
    "        self.lr = lr\n",
    "        self.shuffle = shuffle\n",
    "\n",
    "    def fit(self, X, y, initial_weights=None):\n",
    "        \"\"\" \n",
    "            Fit the data; run the algorithm and adjust the weights to find a \n",
    "            good solution\n",
    "        Args:\n",
    "            X (array-like): A 2D numpy array with the training data, excluding\n",
    "            targets\n",
    "            y (array-like): A 2D numpy array with the training targets\n",
    "            initial_weights (array-like): allows the user to provide initial \n",
    "            weights\n",
    "        Returns:\n",
    "            self: this allows this to be chained, e.g. model.fit(X,y).predict(X_test)\n",
    "        \"\"\"\n",
    "        self.weights = self.initialize_weights() if not initial_weights else initial_weights\n",
    "\n",
    "        return self\n",
    "\n",
    "    def predict(self, X):\n",
    "        \"\"\" \n",
    "            Predict all classes for a dataset X\n",
    "        Args:\n",
    "            X (array-like): A 2D numpy array with the training data, excluding \n",
    "            targets\n",
    "        Returns:\n",
    "            array, shape (n_samples,)\n",
    "                Predicted target values per element in X.\n",
    "        \"\"\"\n",
    "        pass\n",
    "\n",
    "    def initialize_weights(self):\n",
    "        \"\"\" Initialize weights for perceptron. Don't forget the bias!\n",
    "        Returns:\n",
    "        \"\"\"\n",
    "\n",
    "        return [0]\n",
    "\n",
    "    def score(self, X, y):\n",
    "        \"\"\" \n",
    "            Return accuracy of model on a given dataset. Must implement own \n",
    "            score function.\n",
    "        Args:\n",
    "            X (array-like): A 2D numpy array with data, excluding targets\n",
    "            y (array-like): A 2D numpy array with targets\n",
    "        Returns:\n",
    "            score : float\n",
    "                Mean accuracy of self.predict(X) wrt. y.\n",
    "        \"\"\"\n",
    "\n",
    "        return 0\n",
    "\n",
    "    ### Returns the weights and bias. Not required but great for debugging.\n",
    "    def get_weights(self):\n",
    "        pass"
   ]
  }
 ],
 "metadata": {
  "colab": {
   "collapsed_sections": [],
   "provenance": []
  },
  "kernelspec": {
   "display_name": "Python 2.7.16 64-bit",
   "language": "python",
   "name": "python3"
  },
  "language_info": {
   "codemirror_mode": {
    "name": "ipython",
    "version": 3
   },
   "file_extension": ".py",
   "mimetype": "text/x-python",
   "name": "python",
   "nbconvert_exporter": "python",
   "pygments_lexer": "ipython3",
   "version": "3.11.4"
  },
  "vscode": {
   "interpreter": {
    "hash": "767d51c1340bd893661ea55ea3124f6de3c7a262a8b4abca0554b478b1e2ff90"
   }
  }
 },
 "nbformat": 4,
 "nbformat_minor": 0
}
